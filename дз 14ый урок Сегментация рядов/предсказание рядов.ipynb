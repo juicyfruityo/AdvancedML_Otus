{
 "cells": [
  {
   "cell_type": "code",
   "execution_count": 1,
   "metadata": {},
   "outputs": [],
   "source": [
    "import numpy as np\n",
    "import pandas as pd"
   ]
  },
  {
   "cell_type": "code",
   "execution_count": 4,
   "metadata": {},
   "outputs": [],
   "source": [
    "df = pd.read_csv('data/Epileptic Seizure Recognition.csv')\n",
    "df.drop(['Unnamed'], axis=1, inplace=True)\n",
    "\n",
    "df['y'] = df['y'].apply(lambda x: int(x == 1))"
   ]
  },
  {
   "cell_type": "code",
   "execution_count": 5,
   "metadata": {},
   "outputs": [
    {
     "data": {
      "text/html": [
       "<div>\n",
       "<style scoped>\n",
       "    .dataframe tbody tr th:only-of-type {\n",
       "        vertical-align: middle;\n",
       "    }\n",
       "\n",
       "    .dataframe tbody tr th {\n",
       "        vertical-align: top;\n",
       "    }\n",
       "\n",
       "    .dataframe thead th {\n",
       "        text-align: right;\n",
       "    }\n",
       "</style>\n",
       "<table border=\"1\" class=\"dataframe\">\n",
       "  <thead>\n",
       "    <tr style=\"text-align: right;\">\n",
       "      <th></th>\n",
       "      <th>X1</th>\n",
       "      <th>X2</th>\n",
       "      <th>X3</th>\n",
       "      <th>X4</th>\n",
       "      <th>X5</th>\n",
       "      <th>X6</th>\n",
       "      <th>X7</th>\n",
       "      <th>X8</th>\n",
       "      <th>X9</th>\n",
       "      <th>X10</th>\n",
       "      <th>...</th>\n",
       "      <th>X170</th>\n",
       "      <th>X171</th>\n",
       "      <th>X172</th>\n",
       "      <th>X173</th>\n",
       "      <th>X174</th>\n",
       "      <th>X175</th>\n",
       "      <th>X176</th>\n",
       "      <th>X177</th>\n",
       "      <th>X178</th>\n",
       "      <th>y</th>\n",
       "    </tr>\n",
       "  </thead>\n",
       "  <tbody>\n",
       "    <tr>\n",
       "      <th>0</th>\n",
       "      <td>135</td>\n",
       "      <td>190</td>\n",
       "      <td>229</td>\n",
       "      <td>223</td>\n",
       "      <td>192</td>\n",
       "      <td>125</td>\n",
       "      <td>55</td>\n",
       "      <td>-9</td>\n",
       "      <td>-33</td>\n",
       "      <td>-38</td>\n",
       "      <td>...</td>\n",
       "      <td>-17</td>\n",
       "      <td>-15</td>\n",
       "      <td>-31</td>\n",
       "      <td>-77</td>\n",
       "      <td>-103</td>\n",
       "      <td>-127</td>\n",
       "      <td>-116</td>\n",
       "      <td>-83</td>\n",
       "      <td>-51</td>\n",
       "      <td>0</td>\n",
       "    </tr>\n",
       "    <tr>\n",
       "      <th>1</th>\n",
       "      <td>386</td>\n",
       "      <td>382</td>\n",
       "      <td>356</td>\n",
       "      <td>331</td>\n",
       "      <td>320</td>\n",
       "      <td>315</td>\n",
       "      <td>307</td>\n",
       "      <td>272</td>\n",
       "      <td>244</td>\n",
       "      <td>232</td>\n",
       "      <td>...</td>\n",
       "      <td>164</td>\n",
       "      <td>150</td>\n",
       "      <td>146</td>\n",
       "      <td>152</td>\n",
       "      <td>157</td>\n",
       "      <td>156</td>\n",
       "      <td>154</td>\n",
       "      <td>143</td>\n",
       "      <td>129</td>\n",
       "      <td>1</td>\n",
       "    </tr>\n",
       "    <tr>\n",
       "      <th>2</th>\n",
       "      <td>-32</td>\n",
       "      <td>-39</td>\n",
       "      <td>-47</td>\n",
       "      <td>-37</td>\n",
       "      <td>-32</td>\n",
       "      <td>-36</td>\n",
       "      <td>-57</td>\n",
       "      <td>-73</td>\n",
       "      <td>-85</td>\n",
       "      <td>-94</td>\n",
       "      <td>...</td>\n",
       "      <td>57</td>\n",
       "      <td>64</td>\n",
       "      <td>48</td>\n",
       "      <td>19</td>\n",
       "      <td>-12</td>\n",
       "      <td>-30</td>\n",
       "      <td>-35</td>\n",
       "      <td>-35</td>\n",
       "      <td>-36</td>\n",
       "      <td>0</td>\n",
       "    </tr>\n",
       "    <tr>\n",
       "      <th>3</th>\n",
       "      <td>-105</td>\n",
       "      <td>-101</td>\n",
       "      <td>-96</td>\n",
       "      <td>-92</td>\n",
       "      <td>-89</td>\n",
       "      <td>-95</td>\n",
       "      <td>-102</td>\n",
       "      <td>-100</td>\n",
       "      <td>-87</td>\n",
       "      <td>-79</td>\n",
       "      <td>...</td>\n",
       "      <td>-82</td>\n",
       "      <td>-81</td>\n",
       "      <td>-80</td>\n",
       "      <td>-77</td>\n",
       "      <td>-85</td>\n",
       "      <td>-77</td>\n",
       "      <td>-72</td>\n",
       "      <td>-69</td>\n",
       "      <td>-65</td>\n",
       "      <td>0</td>\n",
       "    </tr>\n",
       "    <tr>\n",
       "      <th>4</th>\n",
       "      <td>-9</td>\n",
       "      <td>-65</td>\n",
       "      <td>-98</td>\n",
       "      <td>-102</td>\n",
       "      <td>-78</td>\n",
       "      <td>-48</td>\n",
       "      <td>-16</td>\n",
       "      <td>0</td>\n",
       "      <td>-21</td>\n",
       "      <td>-59</td>\n",
       "      <td>...</td>\n",
       "      <td>4</td>\n",
       "      <td>2</td>\n",
       "      <td>-12</td>\n",
       "      <td>-32</td>\n",
       "      <td>-41</td>\n",
       "      <td>-65</td>\n",
       "      <td>-83</td>\n",
       "      <td>-89</td>\n",
       "      <td>-73</td>\n",
       "      <td>0</td>\n",
       "    </tr>\n",
       "  </tbody>\n",
       "</table>\n",
       "<p>5 rows × 179 columns</p>\n",
       "</div>"
      ],
      "text/plain": [
       "    X1   X2   X3   X4   X5   X6   X7   X8   X9  X10  ...  X170  X171  X172  \\\n",
       "0  135  190  229  223  192  125   55   -9  -33  -38  ...   -17   -15   -31   \n",
       "1  386  382  356  331  320  315  307  272  244  232  ...   164   150   146   \n",
       "2  -32  -39  -47  -37  -32  -36  -57  -73  -85  -94  ...    57    64    48   \n",
       "3 -105 -101  -96  -92  -89  -95 -102 -100  -87  -79  ...   -82   -81   -80   \n",
       "4   -9  -65  -98 -102  -78  -48  -16    0  -21  -59  ...     4     2   -12   \n",
       "\n",
       "   X173  X174  X175  X176  X177  X178  y  \n",
       "0   -77  -103  -127  -116   -83   -51  0  \n",
       "1   152   157   156   154   143   129  1  \n",
       "2    19   -12   -30   -35   -35   -36  0  \n",
       "3   -77   -85   -77   -72   -69   -65  0  \n",
       "4   -32   -41   -65   -83   -89   -73  0  \n",
       "\n",
       "[5 rows x 179 columns]"
      ]
     },
     "execution_count": 5,
     "metadata": {},
     "output_type": "execute_result"
    }
   ],
   "source": [
    "df.head()"
   ]
  },
  {
   "cell_type": "code",
   "execution_count": 6,
   "metadata": {},
   "outputs": [],
   "source": [
    "from random import triangular\n",
    "from sklearn.model_selection import train_test_split\n",
    "\n",
    "X_train, X_test, y_train, y_test = train_test_split(df.drop(['y'], axis=1), df['y'],\n",
    "                                                     test_size=0.2, random_state=123, \n",
    "                                                     stratify=df['y'])"
   ]
  },
  {
   "cell_type": "markdown",
   "metadata": {},
   "source": [
    "#### Бейзлайн с использование маленький RandomForest"
   ]
  },
  {
   "cell_type": "code",
   "execution_count": 7,
   "metadata": {},
   "outputs": [
    {
     "name": "stdout",
     "output_type": "stream",
     "text": [
      "Accuracy for train = 0.959, accuracy for test = 0.949\n",
      "              precision    recall  f1-score   support\n",
      "\n",
      "           0       0.95      0.99      0.97      1840\n",
      "           1       0.97      0.77      0.86       460\n",
      "\n",
      "    accuracy                           0.95      2300\n",
      "   macro avg       0.96      0.88      0.91      2300\n",
      "weighted avg       0.95      0.95      0.95      2300\n",
      "\n"
     ]
    }
   ],
   "source": [
    "from sklearn.ensemble import RandomForestClassifier\n",
    "from sklearn.metrics import classification_report, accuracy_score\n",
    "\n",
    "\n",
    "def print_result(X_train, X_test, y_train, y_test, clf):\n",
    "    y_train_pred = clf.predict(X_train)\n",
    "    y_test_pred = clf.predict(X_test)\n",
    "\n",
    "    acc_train = accuracy_score(y_train, y_train_pred)\n",
    "    acc_test = accuracy_score(y_test, y_test_pred)\n",
    "    print(f\"Accuracy for train = {round(acc_train, 3)}, accuracy for test = {round(acc_test, 3)}\")\n",
    "    print(classification_report(y_test, y_test_pred))\n",
    "\n",
    "\n",
    "clf = RandomForestClassifier(n_estimators=20, max_depth=6).fit(X_train, y_train)\n",
    "print_result(X_train, X_test, y_train, y_test, clf)"
   ]
  },
  {
   "cell_type": "code",
   "execution_count": 8,
   "metadata": {},
   "outputs": [],
   "source": [
    "# Создадим массив с последовательностю сигналов.\n",
    "\n",
    "sequence_lists = []\n",
    "for i, tuple in enumerate(df.drop(['y'], axis=1).itertuples()):\n",
    "    sequence_tmp = np.array([x for x in tuple[1:]])\n",
    "    sequence_lists.append(sequence_tmp)\n",
    "\n",
    "sequence_lists = np.array(sequence_lists)"
   ]
  },
  {
   "cell_type": "code",
   "execution_count": 15,
   "metadata": {},
   "outputs": [],
   "source": [
    "X_train_seq = sequence_lists[X_train.index]\n",
    "X_test_seq = sequence_lists[X_test.index]"
   ]
  },
  {
   "cell_type": "code",
   "execution_count": 25,
   "metadata": {},
   "outputs": [
    {
     "data": {
      "image/png": "[encoded data removed]",
      "text/plain": [
       "<Figure size 864x360 with 1 Axes>"
      ]
     },
     "metadata": {
      "needs_background": "light"
     },
     "output_type": "display_data"
    }
   ],
   "source": [
    "import matplotlib.pyplot as plt\n",
    "\n",
    "plt.figure(figsize=(12, 5))\n",
    "plt.plot(sequence_lists[0], label=f'Target = {df[\"y\"].values[0]}')\n",
    "plt.plot(sequence_lists[10], label=f'Target = {df[\"y\"].values[10]}')\n",
    "plt.plot(sequence_lists[30], label=f'Target = {df[\"y\"].values[30]}')\n",
    "plt.plot(sequence_lists[50], label=f'Target = {df[\"y\"].values[50]}')\n",
    "plt.legend()\n",
    "plt.show()"
   ]
  },
  {
   "cell_type": "markdown",
   "metadata": {},
   "source": [
    "### Попробуем разложение Фурье.\n",
    "\n",
    "Для примера отрисуем, что получается при разложении."
   ]
  },
  {
   "cell_type": "code",
   "execution_count": 27,
   "metadata": {},
   "outputs": [],
   "source": [
    "from scipy.signal import welch\n",
    "from scipy.fftpack import fft\n",
    "from scipy import signal\n",
    "\n",
    "\n",
    "def get_fft_values(y_values, T, N):\n",
    "    f_values = np.linspace(0.0, 1.0/(2.0*T), N//2)\n",
    "    fft_values_ = fft(y_values)\n",
    "    fft_values = 2.0/N * np.abs(fft_values_[0:N//2])\n",
    "    return f_values, fft_values"
   ]
  },
  {
   "cell_type": "code",
   "execution_count": 53,
   "metadata": {},
   "outputs": [],
   "source": [
    "N = 178  # Кол-во сигналов.\n",
    "t_n = 1.  # Время в с, за которое были эти сигналиы собраны.\n",
    "T = t_n / N\n",
    "f_values, fft_values = get_fft_values(sequence_lists[0], T, N)"
   ]
  },
  {
   "cell_type": "code",
   "execution_count": 67,
   "metadata": {},
   "outputs": [],
   "source": [
    "max_freq = np.argsort(fft_values)[::-1][:30]\n",
    "\n",
    "res_ampl = fft_values[max_freq]\n",
    "res_freq = f_values[max_freq]"
   ]
  },
  {
   "cell_type": "code",
   "execution_count": 68,
   "metadata": {},
   "outputs": [],
   "source": [
    "x_value = np.linspace(1,178,178)\n",
    "\n",
    "y_res = [\n",
    "    res_ampl[ii]*np.sin(\n",
    "        2*np.pi*res_freq[ii]*x_value\n",
    "    ) for ii in range(0,len(res_ampl))\n",
    "]\n",
    "composite_y_value = np.sum(y_res, axis=0)"
   ]
  },
  {
   "cell_type": "code",
   "execution_count": 69,
   "metadata": {},
   "outputs": [
    {
     "data": {
      "image/png": "[encoded data removed]",
      "text/plain": [
       "<Figure size 864x360 with 1 Axes>"
      ]
     },
     "metadata": {
      "needs_background": "light"
     },
     "output_type": "display_data"
    }
   ],
   "source": [
    "import matplotlib.pyplot as plt\n",
    "\n",
    "plt.figure(figsize=(12, 5))\n",
    "plt.plot(sequence_lists[0])\n",
    "plt.plot(composite_y_value)\n",
    "plt.legend()\n",
    "plt.show()"
   ]
  },
  {
   "cell_type": "markdown",
   "metadata": {},
   "source": [
    "Извлечем признаки, будем брать топ 10 аплитуд и их частот для каждого сигнала.\n",
    "<br> После этого просто обучим RandomForestClassifier на них."
   ]
  },
  {
   "cell_type": "code",
   "execution_count": 107,
   "metadata": {},
   "outputs": [],
   "source": [
    "def get_features_fft(sequence_lists, top_n=10):\n",
    "    features = []\n",
    "\n",
    "    for sequence in sequence_lists:\n",
    "        f_values, fft_values = get_fft_values(sequence, T, N)\n",
    "\n",
    "        max_freq = np.argsort(fft_values)[::-1][:top_n]\n",
    "        res_ampl = list(fft_values[max_freq])\n",
    "        res_freq = list(f_values[max_freq])\n",
    "\n",
    "        features.append(res_ampl + res_freq)\n",
    "\n",
    "    return np.array(features)"
   ]
  },
  {
   "cell_type": "code",
   "execution_count": 108,
   "metadata": {},
   "outputs": [],
   "source": [
    "X_train_fft = get_features_fft(X_train_seq)\n",
    "X_test_fft = get_features_fft(X_test_seq)"
   ]
  },
  {
   "cell_type": "code",
   "execution_count": 110,
   "metadata": {},
   "outputs": [
    {
     "name": "stdout",
     "output_type": "stream",
     "text": [
      "Accuracy for train = 0.981, accuracy for test = 0.969\n",
      "              precision    recall  f1-score   support\n",
      "\n",
      "           0       0.98      0.98      0.98      1840\n",
      "           1       0.93      0.92      0.92       460\n",
      "\n",
      "    accuracy                           0.97      2300\n",
      "   macro avg       0.95      0.95      0.95      2300\n",
      "weighted avg       0.97      0.97      0.97      2300\n",
      "\n"
     ]
    }
   ],
   "source": [
    "clf = RandomForestClassifier(n_estimators=20, max_depth=6).fit(X_train_fft, y_train)\n",
    "print_result(X_train_fft, X_test_fft, y_train, y_test, clf)"
   ]
  },
  {
   "cell_type": "markdown",
   "metadata": {},
   "source": [
    "Подняли accuracy на 0.02, достаточно высокая точность классификации."
   ]
  },
  {
   "cell_type": "markdown",
   "metadata": {},
   "source": [
    "### Попробуем построить признаки на основе вейвлет преобразования."
   ]
  },
  {
   "cell_type": "code",
   "execution_count": 121,
   "metadata": {},
   "outputs": [],
   "source": [
    "import pywt\n",
    "from collections import Counter\n",
    "import scipy\n",
    "from tqdm import tqdm\n",
    "\n",
    "\n",
    "waveletname = 'rbio3.1'\n",
    "res = pywt.wavedec(sequence_lists[0], waveletname)"
   ]
  },
  {
   "cell_type": "code",
   "execution_count": 124,
   "metadata": {},
   "outputs": [],
   "source": [
    "def calculate_entropy(list_values):\n",
    "    counter_values = Counter(list_values).most_common()\n",
    "    probabilities = [elem[1]/len(list_values) for elem in counter_values]\n",
    "    entropy=scipy.stats.entropy(probabilities)\n",
    "    return entropy\n",
    "\n",
    "def calculate_statistics(list_values):\n",
    "    n5 = np.nanpercentile(list_values, 5)\n",
    "    n25 = np.nanpercentile(list_values, 25)\n",
    "    n75 = np.nanpercentile(list_values, 75)\n",
    "    n95 = np.nanpercentile(list_values, 95)\n",
    "    median = np.nanpercentile(list_values, 50)\n",
    "    mean = np.nanmean(list_values)\n",
    "    std = np.nanstd(list_values)\n",
    "    var = np.nanvar(list_values)\n",
    "    rms = np.nanmean(np.sqrt(list_values**2))\n",
    "    return [n5, n25, n75, n95, median, mean, std, var, rms]\n",
    "\n",
    "def calculate_crossings(list_values):\n",
    "    zero_crossing_indices = np.nonzero(np.diff(np.array(list_values) > 0))[0]\n",
    "    no_zero_crossings = len(zero_crossing_indices)\n",
    "    mean_crossing_indices = np.nonzero(\n",
    "        np.diff(np.array(list_values) > np.nanmean(list_values)))[0]\n",
    "    no_mean_crossings = len(mean_crossing_indices)\n",
    "    return [no_zero_crossings, no_mean_crossings]\n",
    "\n",
    "def get_feats(list_values):\n",
    "    entropy = calculate_entropy(list_values)\n",
    "    crossings = calculate_crossings(list_values)\n",
    "    statistics = calculate_statistics(list_values)\n",
    "    return [entropy] + crossings + statistics\n",
    "\n",
    "\n",
    "def get_features(sequence_lists, labels, waveletname):\n",
    "    features = []\n",
    "    for signal in tqdm(sequence_lists, leave=False):\n",
    "        feats = []\n",
    "\n",
    "        list_coeff = pywt.wavedec(signal, waveletname)\n",
    "        for coeff in list_coeff:\n",
    "            feats += get_feats(coeff)\n",
    "        features.append(feats)\n",
    "\n",
    "    X = np.array(features)\n",
    "    Y = np.array(labels)\n",
    "    return X, Y"
   ]
  },
  {
   "cell_type": "code",
   "execution_count": 125,
   "metadata": {},
   "outputs": [
    {
     "name": "stderr",
     "output_type": "stream",
     "text": [
      "                                                    \r"
     ]
    }
   ],
   "source": [
    "X_train_wt, y_train = get_features(X_train_seq, y_train, waveletname)"
   ]
  },
  {
   "cell_type": "code",
   "execution_count": 126,
   "metadata": {},
   "outputs": [
    {
     "name": "stderr",
     "output_type": "stream",
     "text": [
      "                                                    \r"
     ]
    }
   ],
   "source": [
    "X_test_wt, y_test = get_features(X_test_seq, y_test, waveletname)"
   ]
  },
  {
   "cell_type": "code",
   "execution_count": 127,
   "metadata": {},
   "outputs": [
    {
     "name": "stdout",
     "output_type": "stream",
     "text": [
      "Accuracy for train = 0.991, accuracy for test = 0.98\n",
      "              precision    recall  f1-score   support\n",
      "\n",
      "           0       0.99      0.99      0.99      1840\n",
      "           1       0.96      0.94      0.95       460\n",
      "\n",
      "    accuracy                           0.98      2300\n",
      "   macro avg       0.97      0.97      0.97      2300\n",
      "weighted avg       0.98      0.98      0.98      2300\n",
      "\n"
     ]
    }
   ],
   "source": [
    "clf = RandomForestClassifier(n_estimators=20, max_depth=6).fit(X_train_wt, y_train)\n",
    "print_result(X_train_wt, X_test_wt, y_train, y_test, clf)"
   ]
  },
  {
   "cell_type": "markdown",
   "metadata": {},
   "source": [
    "точность 0.98 на валидационной выборке"
   ]
  },
  {
   "cell_type": "code",
   "execution_count": 129,
   "metadata": {},
   "outputs": [
    {
     "name": "stdout",
     "output_type": "stream",
     "text": [
      "Collecting tsfel\n",
      "  Downloading tsfel-0.1.4-py3-none-any.whl (46 kB)\n",
      "Requirement already satisfied: scipy>=1.5.1 in c:\\users\\ivan.ustinov\\anaconda3\\envs\\study\\lib\\site-packages (from tsfel) (1.5.4)\n",
      "Requirement already satisfied: setuptools>=47.1.1 in c:\\users\\ivan.ustinov\\anaconda3\\envs\\study\\lib\\site-packages (from tsfel) (61.2.0)\n",
      "Requirement already satisfied: Sphinx>=1.8.5 in c:\\users\\ivan.ustinov\\anaconda3\\envs\\study\\lib\\site-packages (from tsfel) (4.3.2)\n",
      "Requirement already satisfied: numpy>=1.18.5 in c:\\users\\ivan.ustinov\\anaconda3\\envs\\study\\lib\\site-packages (from tsfel) (1.21.6)\n",
      "Collecting gspread>=3.1.0\n",
      "  Downloading gspread-5.5.0-py3-none-any.whl (38 kB)\n",
      "Requirement already satisfied: pandas>=0.25.3 in c:\\users\\ivan.ustinov\\anaconda3\\envs\\study\\lib\\site-packages (from tsfel) (1.3.5)\n",
      "Requirement already satisfied: ipython>=7.4.0 in c:\\users\\ivan.ustinov\\anaconda3\\envs\\study\\lib\\site-packages (from tsfel) (7.31.1)\n",
      "Collecting oauth2client>=4.1.3\n",
      "  Downloading oauth2client-4.1.3-py2.py3-none-any.whl (98 kB)\n",
      "Collecting google-auth-oauthlib>=0.4.1\n",
      "  Downloading google_auth_oauthlib-0.5.2-py2.py3-none-any.whl (19 kB)\n",
      "Requirement already satisfied: google-auth>=1.12.0 in c:\\users\\ivan.ustinov\\anaconda3\\envs\\study\\lib\\site-packages (from gspread>=3.1.0->tsfel) (2.10.0)\n",
      "Requirement already satisfied: six>=1.9.0 in c:\\users\\ivan.ustinov\\anaconda3\\envs\\study\\lib\\site-packages (from google-auth>=1.12.0->gspread>=3.1.0->tsfel) (1.16.0)\n",
      "Requirement already satisfied: pyasn1-modules>=0.2.1 in c:\\users\\ivan.ustinov\\anaconda3\\envs\\study\\lib\\site-packages (from google-auth>=1.12.0->gspread>=3.1.0->tsfel) (0.2.8)\n",
      "Requirement already satisfied: rsa<5,>=3.1.4 in c:\\users\\ivan.ustinov\\anaconda3\\envs\\study\\lib\\site-packages (from google-auth>=1.12.0->gspread>=3.1.0->tsfel) (4.9)\n",
      "Requirement already satisfied: cachetools<6.0,>=2.0.0 in c:\\users\\ivan.ustinov\\anaconda3\\envs\\study\\lib\\site-packages (from google-auth>=1.12.0->gspread>=3.1.0->tsfel) (5.2.0)\n",
      "Requirement already satisfied: requests-oauthlib>=0.7.0 in c:\\users\\ivan.ustinov\\anaconda3\\envs\\study\\lib\\site-packages (from google-auth-oauthlib>=0.4.1->gspread>=3.1.0->tsfel) (1.3.1)\n",
      "Requirement already satisfied: colorama in c:\\users\\ivan.ustinov\\anaconda3\\envs\\study\\lib\\site-packages (from ipython>=7.4.0->tsfel) (0.4.4)\n",
      "Requirement already satisfied: jedi>=0.16 in c:\\users\\ivan.ustinov\\anaconda3\\envs\\study\\lib\\site-packages (from ipython>=7.4.0->tsfel) (0.17.2)\n",
      "Requirement already satisfied: prompt-toolkit!=3.0.0,!=3.0.1,<3.1.0,>=2.0.0 in c:\\users\\ivan.ustinov\\anaconda3\\envs\\study\\lib\\site-packages (from ipython>=7.4.0->tsfel) (3.0.20)\n",
      "Requirement already satisfied: pygments in c:\\users\\ivan.ustinov\\anaconda3\\envs\\study\\lib\\site-packages (from ipython>=7.4.0->tsfel) (2.11.2)\n",
      "Requirement already satisfied: backcall in c:\\users\\ivan.ustinov\\anaconda3\\envs\\study\\lib\\site-packages (from ipython>=7.4.0->tsfel) (0.2.0)\n",
      "Requirement already satisfied: pickleshare in c:\\users\\ivan.ustinov\\anaconda3\\envs\\study\\lib\\site-packages (from ipython>=7.4.0->tsfel) (0.7.5)\n",
      "Requirement already satisfied: traitlets>=4.2 in c:\\users\\ivan.ustinov\\anaconda3\\envs\\study\\lib\\site-packages (from ipython>=7.4.0->tsfel) (5.1.1)\n",
      "Requirement already satisfied: matplotlib-inline in c:\\users\\ivan.ustinov\\anaconda3\\envs\\study\\lib\\site-packages (from ipython>=7.4.0->tsfel) (0.1.2)\n",
      "Requirement already satisfied: decorator in c:\\users\\ivan.ustinov\\anaconda3\\envs\\study\\lib\\site-packages (from ipython>=7.4.0->tsfel) (5.1.1)\n",
      "Requirement already satisfied: parso<0.8.0,>=0.7.0 in c:\\users\\ivan.ustinov\\anaconda3\\envs\\study\\lib\\site-packages (from jedi>=0.16->ipython>=7.4.0->tsfel) (0.7.0)\n",
      "Collecting httplib2>=0.9.1\n",
      "  Downloading httplib2-0.20.4-py3-none-any.whl (96 kB)\n",
      "Requirement already satisfied: pyasn1>=0.1.7 in c:\\users\\ivan.ustinov\\anaconda3\\envs\\study\\lib\\site-packages (from oauth2client>=4.1.3->tsfel) (0.4.8)\n",
      "Requirement already satisfied: pyparsing!=3.0.0,!=3.0.1,!=3.0.2,!=3.0.3,<4,>=2.4.2 in c:\\users\\ivan.ustinov\\anaconda3\\envs\\study\\lib\\site-packages (from httplib2>=0.9.1->oauth2client>=4.1.3->tsfel) (3.0.4)\n",
      "Requirement already satisfied: pytz>=2017.3 in c:\\users\\ivan.ustinov\\anaconda3\\envs\\study\\lib\\site-packages (from pandas>=0.25.3->tsfel) (2022.2.1)\n",
      "Requirement already satisfied: python-dateutil>=2.7.3 in c:\\users\\ivan.ustinov\\anaconda3\\envs\\study\\lib\\site-packages (from pandas>=0.25.3->tsfel) (2.8.2)\n",
      "Requirement already satisfied: wcwidth in c:\\users\\ivan.ustinov\\anaconda3\\envs\\study\\lib\\site-packages (from prompt-toolkit!=3.0.0,!=3.0.1,<3.1.0,>=2.0.0->ipython>=7.4.0->tsfel) (0.2.5)\n",
      "Requirement already satisfied: requests>=2.0.0 in c:\\users\\ivan.ustinov\\anaconda3\\envs\\study\\lib\\site-packages (from requests-oauthlib>=0.7.0->google-auth-oauthlib>=0.4.1->gspread>=3.1.0->tsfel) (2.27.1)\n",
      "Requirement already satisfied: oauthlib>=3.0.0 in c:\\users\\ivan.ustinov\\anaconda3\\envs\\study\\lib\\site-packages (from requests-oauthlib>=0.7.0->google-auth-oauthlib>=0.4.1->gspread>=3.1.0->tsfel) (3.2.0)\n",
      "Requirement already satisfied: certifi>=2017.4.17 in c:\\users\\ivan.ustinov\\anaconda3\\envs\\study\\lib\\site-packages (from requests>=2.0.0->requests-oauthlib>=0.7.0->google-auth-oauthlib>=0.4.1->gspread>=3.1.0->tsfel) (2022.5.18.1)\n",
      "Requirement already satisfied: charset-normalizer~=2.0.0 in c:\\users\\ivan.ustinov\\anaconda3\\envs\\study\\lib\\site-packages (from requests>=2.0.0->requests-oauthlib>=0.7.0->google-auth-oauthlib>=0.4.1->gspread>=3.1.0->tsfel) (2.0.4)\n",
      "Requirement already satisfied: idna<4,>=2.5 in c:\\users\\ivan.ustinov\\anaconda3\\envs\\study\\lib\\site-packages (from requests>=2.0.0->requests-oauthlib>=0.7.0->google-auth-oauthlib>=0.4.1->gspread>=3.1.0->tsfel) (3.3)\n",
      "Requirement already satisfied: urllib3<1.27,>=1.21.1 in c:\\users\\ivan.ustinov\\anaconda3\\envs\\study\\lib\\site-packages (from requests>=2.0.0->requests-oauthlib>=0.7.0->google-auth-oauthlib>=0.4.1->gspread>=3.1.0->tsfel) (1.26.9)\n",
      "Requirement already satisfied: sphinxcontrib-devhelp in c:\\users\\ivan.ustinov\\anaconda3\\envs\\study\\lib\\site-packages (from Sphinx>=1.8.5->tsfel) (1.0.2)\n",
      "Requirement already satisfied: packaging in c:\\users\\ivan.ustinov\\anaconda3\\envs\\study\\lib\\site-packages (from Sphinx>=1.8.5->tsfel) (21.3)\n",
      "Requirement already satisfied: docutils<0.18,>=0.14 in c:\\users\\ivan.ustinov\\anaconda3\\envs\\study\\lib\\site-packages (from Sphinx>=1.8.5->tsfel) (0.17.1)\n",
      "Requirement already satisfied: alabaster<0.8,>=0.7 in c:\\users\\ivan.ustinov\\anaconda3\\envs\\study\\lib\\site-packages (from Sphinx>=1.8.5->tsfel) (0.7.12)\n",
      "Requirement already satisfied: snowballstemmer>=1.1 in c:\\users\\ivan.ustinov\\anaconda3\\envs\\study\\lib\\site-packages (from Sphinx>=1.8.5->tsfel) (2.2.0)\n",
      "Requirement already satisfied: babel>=1.3 in c:\\users\\ivan.ustinov\\anaconda3\\envs\\study\\lib\\site-packages (from Sphinx>=1.8.5->tsfel) (2.9.1)\n",
      "Requirement already satisfied: sphinxcontrib-jsmath in c:\\users\\ivan.ustinov\\anaconda3\\envs\\study\\lib\\site-packages (from Sphinx>=1.8.5->tsfel) (1.0.1)\n",
      "Requirement already satisfied: sphinxcontrib-qthelp in c:\\users\\ivan.ustinov\\anaconda3\\envs\\study\\lib\\site-packages (from Sphinx>=1.8.5->tsfel) (1.0.3)\n",
      "Requirement already satisfied: sphinxcontrib-serializinghtml>=1.1.5 in c:\\users\\ivan.ustinov\\anaconda3\\envs\\study\\lib\\site-packages (from Sphinx>=1.8.5->tsfel) (1.1.5)\n",
      "Requirement already satisfied: sphinxcontrib-applehelp in c:\\users\\ivan.ustinov\\anaconda3\\envs\\study\\lib\\site-packages (from Sphinx>=1.8.5->tsfel) (1.0.2)\n",
      "Requirement already satisfied: sphinxcontrib-htmlhelp>=2.0.0 in c:\\users\\ivan.ustinov\\anaconda3\\envs\\study\\lib\\site-packages (from Sphinx>=1.8.5->tsfel) (2.0.0)\n",
      "Requirement already satisfied: imagesize in c:\\users\\ivan.ustinov\\anaconda3\\envs\\study\\lib\\site-packages (from Sphinx>=1.8.5->tsfel) (1.3.0)\n",
      "Requirement already satisfied: Jinja2>=2.3 in c:\\users\\ivan.ustinov\\anaconda3\\envs\\study\\lib\\site-packages (from Sphinx>=1.8.5->tsfel) (3.0.3)\n",
      "Requirement already satisfied: MarkupSafe>=2.0 in c:\\users\\ivan.ustinov\\anaconda3\\envs\\study\\lib\\site-packages (from Jinja2>=2.3->Sphinx>=1.8.5->tsfel) (2.0.1)\n",
      "Installing collected packages: httplib2, google-auth-oauthlib, oauth2client, gspread, tsfel\n",
      "Successfully installed google-auth-oauthlib-0.5.2 gspread-5.5.0 httplib2-0.20.4 oauth2client-4.1.3 tsfel-0.1.4\n"
     ]
    }
   ],
   "source": [
    "!pip install tsfel"
   ]
  },
  {
   "cell_type": "code",
   "execution_count": 132,
   "metadata": {},
   "outputs": [
    {
     "name": "stdout",
     "output_type": "stream",
     "text": [
      "*** Feature extraction started ***\n"
     ]
    },
    {
     "name": "stderr",
     "output_type": "stream",
     "text": [
      "c:\\Users\\ivan.ustinov\\Anaconda3\\envs\\study\\lib\\site-packages\\ipykernel_launcher.py:6: UserWarning: Using default sampling frequency set in configuration file.\n",
      "  \n"
     ]
    },
    {
     "data": {
      "text/html": [
       "\n",
       "              <p>\n",
       "                  Progress: 100% Complete\n",
       "              <p/>            \n",
       "              <progress\n",
       "                  value='9200'\n",
       "                  max='9200',\n",
       "                  style='width: 25%',\n",
       "              >\n",
       "                  9200\n",
       "              </progress>\n",
       "\n",
       "    "
      ],
      "text/plain": [
       "<IPython.core.display.HTML object>"
      ]
     },
     "metadata": {},
     "output_type": "display_data"
    },
    {
     "name": "stdout",
     "output_type": "stream",
     "text": [
      "\n",
      "*** Feature extraction finished ***\n",
      "*** Feature extraction started ***\n"
     ]
    },
    {
     "name": "stderr",
     "output_type": "stream",
     "text": [
      "c:\\Users\\ivan.ustinov\\Anaconda3\\envs\\study\\lib\\site-packages\\ipykernel_launcher.py:7: UserWarning: Using default sampling frequency set in configuration file.\n",
      "  import sys\n"
     ]
    },
    {
     "data": {
      "text/html": [
       "\n",
       "              <p>\n",
       "                  Progress: 100% Complete\n",
       "              <p/>            \n",
       "              <progress\n",
       "                  value='2300'\n",
       "                  max='2300',\n",
       "                  style='width: 25%',\n",
       "              >\n",
       "                  2300\n",
       "              </progress>\n",
       "\n",
       "    "
      ],
      "text/plain": [
       "<IPython.core.display.HTML object>"
      ]
     },
     "metadata": {},
     "output_type": "display_data"
    },
    {
     "name": "stdout",
     "output_type": "stream",
     "text": [
      "\n",
      "*** Feature extraction finished ***\n"
     ]
    }
   ],
   "source": [
    "import tsfel\n",
    "\n",
    "# fs = \n",
    "\n",
    "cfg_file = tsfel.get_features_by_domain('temporal')\n",
    "X_train_ts = tsfel.time_series_features_extractor(cfg_file, X_train_seq)\n",
    "X_test_ts = tsfel.time_series_features_extractor(cfg_file, X_test_seq)"
   ]
  },
  {
   "cell_type": "code",
   "execution_count": 134,
   "metadata": {},
   "outputs": [
    {
     "data": {
      "text/html": [
       "<div>\n",
       "<style scoped>\n",
       "    .dataframe tbody tr th:only-of-type {\n",
       "        vertical-align: middle;\n",
       "    }\n",
       "\n",
       "    .dataframe tbody tr th {\n",
       "        vertical-align: top;\n",
       "    }\n",
       "\n",
       "    .dataframe thead th {\n",
       "        text-align: right;\n",
       "    }\n",
       "</style>\n",
       "<table border=\"1\" class=\"dataframe\">\n",
       "  <thead>\n",
       "    <tr style=\"text-align: right;\">\n",
       "      <th></th>\n",
       "      <th>0_Absolute energy</th>\n",
       "      <th>0_Area under the curve</th>\n",
       "      <th>0_Autocorrelation</th>\n",
       "      <th>0_Centroid</th>\n",
       "      <th>0_Entropy</th>\n",
       "      <th>0_Mean absolute diff</th>\n",
       "      <th>0_Mean diff</th>\n",
       "      <th>0_Median absolute diff</th>\n",
       "      <th>0_Median diff</th>\n",
       "      <th>0_Negative turning points</th>\n",
       "      <th>0_Neighbourhood peaks</th>\n",
       "      <th>0_Peak to peak distance</th>\n",
       "      <th>0_Positive turning points</th>\n",
       "      <th>0_Signal distance</th>\n",
       "      <th>0_Slope</th>\n",
       "      <th>0_Sum absolute diff</th>\n",
       "      <th>0_Total energy</th>\n",
       "      <th>0_Zero crossing rate</th>\n",
       "    </tr>\n",
       "  </thead>\n",
       "  <tbody>\n",
       "    <tr>\n",
       "      <th>0</th>\n",
       "      <td>8897595.0</td>\n",
       "      <td>317.020</td>\n",
       "      <td>8897595.0</td>\n",
       "      <td>0.832465</td>\n",
       "      <td>0.969741</td>\n",
       "      <td>63.898305</td>\n",
       "      <td>2.101695</td>\n",
       "      <td>53.0</td>\n",
       "      <td>6.0</td>\n",
       "      <td>16.0</td>\n",
       "      <td>6.0</td>\n",
       "      <td>929.0</td>\n",
       "      <td>15.0</td>\n",
       "      <td>11315.894440</td>\n",
       "      <td>0.104292</td>\n",
       "      <td>11310.0</td>\n",
       "      <td>5.026890e+06</td>\n",
       "      <td>15.0</td>\n",
       "    </tr>\n",
       "    <tr>\n",
       "      <th>1</th>\n",
       "      <td>230408.0</td>\n",
       "      <td>47.090</td>\n",
       "      <td>230408.0</td>\n",
       "      <td>0.850456</td>\n",
       "      <td>0.843744</td>\n",
       "      <td>6.700565</td>\n",
       "      <td>0.451977</td>\n",
       "      <td>6.0</td>\n",
       "      <td>1.0</td>\n",
       "      <td>14.0</td>\n",
       "      <td>6.0</td>\n",
       "      <td>164.0</td>\n",
       "      <td>16.0</td>\n",
       "      <td>1214.938771</td>\n",
       "      <td>-0.002919</td>\n",
       "      <td>1186.0</td>\n",
       "      <td>1.301740e+05</td>\n",
       "      <td>19.0</td>\n",
       "    </tr>\n",
       "    <tr>\n",
       "      <th>2</th>\n",
       "      <td>972916.0</td>\n",
       "      <td>102.095</td>\n",
       "      <td>972916.0</td>\n",
       "      <td>1.151729</td>\n",
       "      <td>0.912031</td>\n",
       "      <td>9.666667</td>\n",
       "      <td>0.209040</td>\n",
       "      <td>8.0</td>\n",
       "      <td>0.0</td>\n",
       "      <td>18.0</td>\n",
       "      <td>4.0</td>\n",
       "      <td>247.0</td>\n",
       "      <td>18.0</td>\n",
       "      <td>1737.233904</td>\n",
       "      <td>-0.088754</td>\n",
       "      <td>1711.0</td>\n",
       "      <td>5.496701e+05</td>\n",
       "      <td>8.0</td>\n",
       "    </tr>\n",
       "  </tbody>\n",
       "</table>\n",
       "</div>"
      ],
      "text/plain": [
       "   0_Absolute energy  0_Area under the curve  0_Autocorrelation  0_Centroid  \\\n",
       "0          8897595.0                 317.020          8897595.0    0.832465   \n",
       "1           230408.0                  47.090           230408.0    0.850456   \n",
       "2           972916.0                 102.095           972916.0    1.151729   \n",
       "\n",
       "   0_Entropy  0_Mean absolute diff  0_Mean diff  0_Median absolute diff  \\\n",
       "0   0.969741             63.898305     2.101695                    53.0   \n",
       "1   0.843744              6.700565     0.451977                     6.0   \n",
       "2   0.912031              9.666667     0.209040                     8.0   \n",
       "\n",
       "   0_Median diff  0_Negative turning points  0_Neighbourhood peaks  \\\n",
       "0            6.0                       16.0                    6.0   \n",
       "1            1.0                       14.0                    6.0   \n",
       "2            0.0                       18.0                    4.0   \n",
       "\n",
       "   0_Peak to peak distance  0_Positive turning points  0_Signal distance  \\\n",
       "0                    929.0                       15.0       11315.894440   \n",
       "1                    164.0                       16.0        1214.938771   \n",
       "2                    247.0                       18.0        1737.233904   \n",
       "\n",
       "    0_Slope  0_Sum absolute diff  0_Total energy  0_Zero crossing rate  \n",
       "0  0.104292              11310.0    5.026890e+06                  15.0  \n",
       "1 -0.002919               1186.0    1.301740e+05                  19.0  \n",
       "2 -0.088754               1711.0    5.496701e+05                   8.0  "
      ]
     },
     "execution_count": 134,
     "metadata": {},
     "output_type": "execute_result"
    }
   ],
   "source": [
    "X_train_ts.head(3)"
   ]
  },
  {
   "cell_type": "code",
   "execution_count": 135,
   "metadata": {},
   "outputs": [
    {
     "name": "stdout",
     "output_type": "stream",
     "text": [
      "Accuracy for train = 0.987, accuracy for test = 0.976\n",
      "              precision    recall  f1-score   support\n",
      "\n",
      "           0       0.98      0.99      0.98      1840\n",
      "           1       0.95      0.92      0.94       460\n",
      "\n",
      "    accuracy                           0.98      2300\n",
      "   macro avg       0.97      0.96      0.96      2300\n",
      "weighted avg       0.98      0.98      0.98      2300\n",
      "\n"
     ]
    }
   ],
   "source": [
    "clf = RandomForestClassifier(n_estimators=20, max_depth=6).fit(X_train_ts, y_train)\n",
    "print_result(X_train_ts, X_test_ts, y_train, y_test, clf)"
   ]
  },
  {
   "cell_type": "markdown",
   "metadata": {},
   "source": [
    "Тоже очень хороший результат, но признаки основанные на вейвлетах показали себя чуть-чуть лучше."
   ]
  },
  {
   "cell_type": "markdown",
   "metadata": {},
   "source": []
  }
 ],
 "metadata": {
  "kernelspec": {
   "display_name": "Python 3.7.5 ('study')",
   "language": "python",
   "name": "python3"
  },
  "language_info": {
   "codemirror_mode": {
    "name": "ipython",
    "version": 3
   },
   "file_extension": ".py",
   "mimetype": "text/x-python",
   "name": "python",
   "nbconvert_exporter": "python",
   "pygments_lexer": "ipython3",
   "version": "3.7.5"
  },
  "orig_nbformat": 4,
  "vscode": {
   "interpreter": {
    "hash": "f0d5d6461784772888fb12206aba4f7d242d28ab549b12d9512b024fa08541f5"
   }
  }
 },
 "nbformat": 4,
 "nbformat_minor": 2
}
