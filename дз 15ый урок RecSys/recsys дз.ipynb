{
 "cells": [
  {
   "cell_type": "code",
   "execution_count": 47,
   "metadata": {},
   "outputs": [],
   "source": [
    "import pandas as pd\n",
    "import scipy.sparse as sparse\n",
    "import numpy as np\n",
    "from scipy.sparse.linalg import spsolve\n",
    "import warnings\n",
    "warnings.filterwarnings(\"ignore\")\n",
    "\n",
    "from surprise import SVD, KNNWithMeans\n",
    "from surprise import Dataset, Reader"
   ]
  },
  {
   "cell_type": "code",
   "execution_count": 2,
   "metadata": {},
   "outputs": [],
   "source": [
    "data = pd.read_csv('data/AMAZON_FASHION.csv', names=['item', 'user', 'rating', 'timestamp'])"
   ]
  },
  {
   "cell_type": "code",
   "execution_count": 4,
   "metadata": {},
   "outputs": [
    {
     "name": "stdout",
     "output_type": "stream",
     "text": [
      "(883636, 4)\n"
     ]
    },
    {
     "data": {
      "text/html": [
       "<div>\n",
       "<style scoped>\n",
       "    .dataframe tbody tr th:only-of-type {\n",
       "        vertical-align: middle;\n",
       "    }\n",
       "\n",
       "    .dataframe tbody tr th {\n",
       "        vertical-align: top;\n",
       "    }\n",
       "\n",
       "    .dataframe thead th {\n",
       "        text-align: right;\n",
       "    }\n",
       "</style>\n",
       "<table border=\"1\" class=\"dataframe\">\n",
       "  <thead>\n",
       "    <tr style=\"text-align: right;\">\n",
       "      <th></th>\n",
       "      <th>item</th>\n",
       "      <th>user</th>\n",
       "      <th>rating</th>\n",
       "      <th>timestamp</th>\n",
       "    </tr>\n",
       "  </thead>\n",
       "  <tbody>\n",
       "    <tr>\n",
       "      <th>0</th>\n",
       "      <td>7106116521</td>\n",
       "      <td>A1D4G1SNUZWQOT</td>\n",
       "      <td>5.0</td>\n",
       "      <td>1413763200</td>\n",
       "    </tr>\n",
       "    <tr>\n",
       "      <th>1</th>\n",
       "      <td>7106116521</td>\n",
       "      <td>A3DDWDH9PX2YX2</td>\n",
       "      <td>2.0</td>\n",
       "      <td>1411862400</td>\n",
       "    </tr>\n",
       "    <tr>\n",
       "      <th>2</th>\n",
       "      <td>7106116521</td>\n",
       "      <td>A2MWC41EW7XL15</td>\n",
       "      <td>4.0</td>\n",
       "      <td>1408924800</td>\n",
       "    </tr>\n",
       "    <tr>\n",
       "      <th>3</th>\n",
       "      <td>7106116521</td>\n",
       "      <td>A2UH2QQ275NV45</td>\n",
       "      <td>2.0</td>\n",
       "      <td>1408838400</td>\n",
       "    </tr>\n",
       "    <tr>\n",
       "      <th>4</th>\n",
       "      <td>7106116521</td>\n",
       "      <td>A89F3LQADZBS5</td>\n",
       "      <td>3.0</td>\n",
       "      <td>1406419200</td>\n",
       "    </tr>\n",
       "  </tbody>\n",
       "</table>\n",
       "</div>"
      ],
      "text/plain": [
       "         item            user  rating   timestamp\n",
       "0  7106116521  A1D4G1SNUZWQOT     5.0  1413763200\n",
       "1  7106116521  A3DDWDH9PX2YX2     2.0  1411862400\n",
       "2  7106116521  A2MWC41EW7XL15     4.0  1408924800\n",
       "3  7106116521  A2UH2QQ275NV45     2.0  1408838400\n",
       "4  7106116521   A89F3LQADZBS5     3.0  1406419200"
      ]
     },
     "execution_count": 4,
     "metadata": {},
     "output_type": "execute_result"
    }
   ],
   "source": [
    "print(data.shape)\n",
    "data.head()"
   ]
  },
  {
   "cell_type": "code",
   "execution_count": 5,
   "metadata": {},
   "outputs": [],
   "source": [
    "users = data['user'].unique()\n",
    "items = data['item'].unique()\n",
    "\n",
    "user_to_id = {x: i for i, x in enumerate(users)}\n",
    "item_to_id = {x: i for i, x in enumerate(items)}\n",
    "\n",
    "id_to_user = {i: x for i, x in enumerate(users)}\n",
    "id_to_item = {i: x for i, x in enumerate(items)}"
   ]
  },
  {
   "cell_type": "code",
   "execution_count": 6,
   "metadata": {},
   "outputs": [],
   "source": [
    "data['item'] = data['item'].map(item_to_id)\n",
    "data['user'] = data['user'].map(user_to_id)"
   ]
  },
  {
   "cell_type": "markdown",
   "metadata": {},
   "source": [
    "#### Короткое EDA"
   ]
  },
  {
   "cell_type": "code",
   "execution_count": 7,
   "metadata": {},
   "outputs": [
    {
     "data": {
      "text/plain": [
       "(186189, 749233)"
      ]
     },
     "execution_count": 7,
     "metadata": {},
     "output_type": "execute_result"
    }
   ],
   "source": [
    "# Кол-во item user\n",
    "data.item.nunique(), data.user.nunique()"
   ]
  },
  {
   "cell_type": "code",
   "execution_count": 8,
   "metadata": {},
   "outputs": [
    {
     "data": {
      "text/plain": [
       "3.9069401880412298"
      ]
     },
     "execution_count": 8,
     "metadata": {},
     "output_type": "execute_result"
    }
   ],
   "source": [
    "# Средняя оценка\n",
    "data['rating'].mean()"
   ]
  },
  {
   "cell_type": "code",
   "execution_count": 9,
   "metadata": {},
   "outputs": [
    {
     "data": {
      "text/plain": [
       "<AxesSubplot:>"
      ]
     },
     "execution_count": 9,
     "metadata": {},
     "output_type": "execute_result"
    },
    {
     "data": {
      "image/png": "[encoded data removed]",
      "text/plain": [
       "<Figure size 432x288 with 1 Axes>"
      ]
     },
     "metadata": {
      "needs_background": "light"
     },
     "output_type": "display_data"
    }
   ],
   "source": [
    "# Распределение оценок\n",
    "data['rating'].hist()"
   ]
  },
  {
   "cell_type": "code",
   "execution_count": 10,
   "metadata": {},
   "outputs": [
    {
     "data": {
      "text/plain": [
       "177     4384\n",
       "115     4375\n",
       "3190    3889\n",
       "5891    3638\n",
       "142     2572\n",
       "208     2538\n",
       "383     2206\n",
       "2906    2027\n",
       "140     1928\n",
       "7065    1855\n",
       "Name: item, dtype: int64"
      ]
     },
     "execution_count": 10,
     "metadata": {},
     "output_type": "execute_result"
    }
   ],
   "source": [
    "# Топ10 самых часто оцениваемых товаров\n",
    "data['item'].value_counts()[:10]"
   ]
  },
  {
   "cell_type": "code",
   "execution_count": 11,
   "metadata": {},
   "outputs": [
    {
     "data": {
      "text/plain": [
       "5891    3257\n",
       "177     3229\n",
       "115     3224\n",
       "3190    2792\n",
       "142     1991\n",
       "7065    1559\n",
       "383     1464\n",
       "140     1274\n",
       "2906    1210\n",
       "259     1176\n",
       "Name: item, dtype: int64"
      ]
     },
     "execution_count": 11,
     "metadata": {},
     "output_type": "execute_result"
    }
   ],
   "source": [
    "# Товары у которых больше всего 5рок\n",
    "data[data['rating'] == 5]['item'].value_counts()[:10]"
   ]
  },
  {
   "cell_type": "code",
   "execution_count": 13,
   "metadata": {},
   "outputs": [
    {
     "data": {
      "text/plain": [
       "item\n",
       "10246    4.844991\n",
       "1965     4.827411\n",
       "5891     4.826003\n",
       "2705     4.807453\n",
       "448      4.793103\n",
       "382      4.770624\n",
       "511      4.739496\n",
       "7065     4.727224\n",
       "2057     4.698413\n",
       "10497    4.676380\n",
       "Name: rating, dtype: float64"
      ]
     },
     "metadata": {},
     "output_type": "display_data"
    },
    {
     "data": {
      "text/plain": [
       "item\n",
       "1630     3.231602\n",
       "3593     3.146040\n",
       "6417     3.004902\n",
       "6136     2.987080\n",
       "1849     2.949843\n",
       "7578     2.933131\n",
       "2928     2.933131\n",
       "9054     2.915811\n",
       "6044     2.798403\n",
       "11233    2.723485\n",
       "Name: rating, dtype: float64"
      ]
     },
     "metadata": {},
     "output_type": "display_data"
    }
   ],
   "source": [
    "# Топ самых хороших и плохих товаров по оценкам.\n",
    "\n",
    "tmp = data['item'].value_counts() > 300\n",
    "tmp_items = tmp[tmp == True].index\n",
    "\n",
    "display(data[data['item'].isin(tmp_items)].groupby(['item'])['rating'].mean().sort_values(ascending=False)[:10])\n",
    "\n",
    "display(data[data['item'].isin(tmp_items)].groupby(['item'])['rating'].mean().sort_values(ascending=False)[-10:])"
   ]
  },
  {
   "cell_type": "markdown",
   "metadata": {},
   "source": [
    "#### Разбиваем на train/test, будем использовать библиотеку surprise. Будем предсказывать рейтинг, метрика RMSE."
   ]
  },
  {
   "cell_type": "code",
   "execution_count": 18,
   "metadata": {},
   "outputs": [],
   "source": [
    "data_sorted = data.sort_values(by='timestamp')"
   ]
  },
  {
   "cell_type": "code",
   "execution_count": 23,
   "metadata": {},
   "outputs": [],
   "source": [
    "cut_off = int(data.shape[0] * 0.8)\n",
    "\n",
    "train = data_sorted[:cut_off]\n",
    "test = data_sorted[cut_off:]"
   ]
  },
  {
   "cell_type": "code",
   "execution_count": 25,
   "metadata": {},
   "outputs": [
    {
     "data": {
      "text/plain": [
       "<surprise.prediction_algorithms.matrix_factorization.SVD at 0x1117352bd08>"
      ]
     },
     "execution_count": 25,
     "metadata": {},
     "output_type": "execute_result"
    }
   ],
   "source": [
    "# Вначале SVD разлоежение\n",
    "\n",
    "reader = Reader(rating_scale=(1, 5))\n",
    "train_set = Dataset.load_from_df(train[['user', 'item', 'rating']], reader)\n",
    "trainset = train_set.build_full_trainset()\n",
    "\n",
    "algo = SVD(n_factors=50, n_epochs=40)\n",
    "\n",
    "algo.fit(trainset)"
   ]
  },
  {
   "cell_type": "code",
   "execution_count": 33,
   "metadata": {},
   "outputs": [],
   "source": [
    "pred = np.zeros(test.shape[0])\n",
    "for i, tupl in enumerate(test.itertuples()):\n",
    "    pred[i] = algo.predict(tupl.user, tupl.item).est\n",
    "\n",
    "test['pred'] = pred"
   ]
  },
  {
   "cell_type": "code",
   "execution_count": 36,
   "metadata": {},
   "outputs": [],
   "source": [
    "def normilize_pred(x):\n",
    "    if x < 1:\n",
    "        return 1\n",
    "    elif x > 5:\n",
    "        return 5\n",
    "    return x\n",
    "\n",
    "test['pred'] = test['pred'].apply(normilize_pred)"
   ]
  },
  {
   "cell_type": "code",
   "execution_count": 46,
   "metadata": {},
   "outputs": [
    {
     "name": "stdout",
     "output_type": "stream",
     "text": [
      "RMSE on test sample = 1.347\n"
     ]
    }
   ],
   "source": [
    "from sklearn.metrics import mean_squared_error\n",
    "\n",
    "metric = mean_squared_error(test['rating'], test['pred'], squared=False)\n",
    "print(f'RMSE on test sample = {round(metric, 3)}')"
   ]
  },
  {
   "cell_type": "code",
   "execution_count": null,
   "metadata": {},
   "outputs": [],
   "source": []
  },
  {
   "cell_type": "code",
   "execution_count": null,
   "metadata": {},
   "outputs": [],
   "source": [
    "\n"
   ]
  }
 ],
 "metadata": {
  "kernelspec": {
   "display_name": "Python 3.7.5 ('study')",
   "language": "python",
   "name": "python3"
  },
  "language_info": {
   "codemirror_mode": {
    "name": "ipython",
    "version": 3
   },
   "file_extension": ".py",
   "mimetype": "text/x-python",
   "name": "python",
   "nbconvert_exporter": "python",
   "pygments_lexer": "ipython3",
   "version": "3.7.5"
  },
  "orig_nbformat": 4,
  "vscode": {
   "interpreter": {
    "hash": "f0d5d6461784772888fb12206aba4f7d242d28ab549b12d9512b024fa08541f5"
   }
  }
 },
 "nbformat": 4,
 "nbformat_minor": 2
}
