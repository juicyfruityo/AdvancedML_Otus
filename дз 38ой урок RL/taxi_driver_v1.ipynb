{
 "cells": [
  {
   "cell_type": "code",
   "execution_count": 1,
   "metadata": {},
   "outputs": [],
   "source": [
    "from tqdm import tqdm\n",
    "import numpy as np\n",
    "import gym"
   ]
  },
  {
   "cell_type": "code",
   "execution_count": 2,
   "metadata": {},
   "outputs": [],
   "source": [
    "env = gym.make(\"Taxi-v3\")"
   ]
  },
  {
   "cell_type": "code",
   "execution_count": 70,
   "metadata": {},
   "outputs": [
    {
     "data": {
      "text/plain": [
       "Discrete(6)"
      ]
     },
     "execution_count": 70,
     "metadata": {},
     "output_type": "execute_result"
    }
   ],
   "source": [
    "env.action_space"
   ]
  },
  {
   "attachments": {},
   "cell_type": "markdown",
   "metadata": {},
   "source": [
    "6 вариантов действий:\n",
    "\n",
    "    0: move south \\\n",
    "    1: move north \\\n",
    "    2: move east \\\n",
    "    3: move west \\\n",
    "    4: pickup passenger \\\n",
    "    5: drop off passenger"
   ]
  },
  {
   "attachments": {},
   "cell_type": "markdown",
   "metadata": {},
   "source": [
    "Поле состоит из клеток 5х5 в которых может находиться такси. 5 мест, в которых может стоять пассажир. И 4 варианта мест, в которые требуется доставить пассажира. \\\n",
    "Всего 500 различных состояний."
   ]
  },
  {
   "attachments": {},
   "cell_type": "markdown",
   "metadata": {},
   "source": [
    "Награды за действия: \\\n",
    "-1 за каждое перемещение, если не было других наград \\\n",
    "+20 за доставку пассажира \\\n",
    "-10 за подбор и высадку пассажира в неподходящем месте"
   ]
  },
  {
   "cell_type": "code",
   "execution_count": 3,
   "metadata": {},
   "outputs": [
    {
     "data": {
      "text/plain": [
       "(500, 6)"
      ]
     },
     "execution_count": 3,
     "metadata": {},
     "output_type": "execute_result"
    }
   ],
   "source": [
    "nS, nA = env.env.nS, env.env.nA\n",
    "nS, nA"
   ]
  },
  {
   "cell_type": "code",
   "execution_count": 4,
   "metadata": {},
   "outputs": [],
   "source": [
    "def get_random_Q(env):\n",
    "    Q = np.zeros((nS, nA))\n",
    "    return Q\n",
    "\n",
    "def compute_policy_by_Q(env, Q):\n",
    "    return np.argmax(Q, axis=1)"
   ]
  },
  {
   "cell_type": "code",
   "execution_count": 5,
   "metadata": {},
   "outputs": [],
   "source": [
    "def Sarsa_learning_episode(env, pi, Q, alpha=0.05, epsilon=0.0, gamma=0.9):\n",
    "    env.reset()\n",
    "    s, a = env.env.s, pi[env.env.s] if np.random.rand() > epsilon else np.random.randint(nA)\n",
    "    for _ in range(1000):\n",
    "        observation, reward, done, info = env.step(a)\n",
    "        s_prime, a_prime = env.env.s, pi[env.env.s] if np.random.rand() > epsilon else np.random.randint(nA)\n",
    "        Q[s][a] = Q[s][a] + alpha * (reward + gamma * Q[s_prime][a_prime] - Q[s][a])\n",
    "        s, a = s_prime, a_prime\n",
    "        if done:\n",
    "            break"
   ]
  },
  {
   "cell_type": "code",
   "execution_count": 63,
   "metadata": {},
   "outputs": [
    {
     "name": "stderr",
     "output_type": "stream",
     "text": [
      "100%|██████████| 50000/50000 [00:14<00:00, 3503.44it/s]\n"
     ]
    }
   ],
   "source": [
    "total_episodes = 50000\n",
    "gamma = 0.9\n",
    "alpha = 0.1\n",
    "\n",
    "Q_hist_Sarsa = [ ]\n",
    "\n",
    "Q = get_random_Q(env)\n",
    "pi = compute_policy_by_Q(env, Q)\n",
    "\n",
    "for n in tqdm(range(1, total_episodes+1)):\n",
    "    Sarsa_learning_episode(env, pi, Q, alpha=alpha, epsilon= 1. / (np.log(n)+1), gamma=gamma)\n",
    "    pi = compute_policy_by_Q(env, Q)\n",
    "    Q_hist_Sarsa.append(np.copy(Q))\n",
    "\n",
    "env.close()"
   ]
  },
  {
   "cell_type": "code",
   "execution_count": 6,
   "metadata": {},
   "outputs": [],
   "source": [
    "import pickle\n",
    "\n",
    "# with open('q_table.pkl', 'wb') as file:\n",
    "    # pickle.dump(Q, file)\n",
    "with open('q_table.pkl', 'rb') as file:\n",
    "    Q = pickle.load(file)"
   ]
  },
  {
   "cell_type": "code",
   "execution_count": 65,
   "metadata": {},
   "outputs": [],
   "source": [
    "def conduct_experiments_pi(env, pi, num_experiments=1000):\n",
    "    num_steps, total_reward = [], []\n",
    "    for _ in range(num_experiments):\n",
    "        env.reset()\n",
    "        num_steps.append(0)\n",
    "        total_reward.append(0)\n",
    "        for _ in range(1000):\n",
    "            observation, reward, done, info = env.step(pi[env.env.s])\n",
    "            total_reward[-1] += reward\n",
    "            num_steps[-1] += 1\n",
    "            if done:\n",
    "                break\n",
    "    env.close()\n",
    "    return np.mean(total_reward), np.mean(num_steps)"
   ]
  },
  {
   "cell_type": "code",
   "execution_count": 7,
   "metadata": {},
   "outputs": [],
   "source": [
    "env = gym.make(\"Taxi-v3\")\n",
    "env._max_episode_steps = 10000\n",
    "\n",
    "total_episodes = 10000\n",
    "gamma = 0.9\n",
    "\n",
    "pi = compute_policy_by_Q(env, Q)\n",
    "num_steps, total_reward = [], []\n",
    "\n",
    "for _ in range(total_episodes):\n",
    "    env.reset()\n",
    "    num_steps.append(0)\n",
    "    total_reward.append(0)\n",
    "    for _ in range(1000):\n",
    "        observation, reward, done, info = env.step(pi[env.env.s])\n",
    "        total_reward[-1] += reward\n",
    "        num_steps[-1] += 1\n",
    "        if done:\n",
    "            break\n",
    "\n",
    "env.close()"
   ]
  },
  {
   "cell_type": "markdown",
   "metadata": {},
   "source": [
    "Средняя награда за 10к эпизодов по обученной стратегии."
   ]
  },
  {
   "cell_type": "code",
   "execution_count": 8,
   "metadata": {},
   "outputs": [
    {
     "data": {
      "text/plain": [
       "7.8397"
      ]
     },
     "execution_count": 8,
     "metadata": {},
     "output_type": "execute_result"
    }
   ],
   "source": [
    "np.mean(total_reward)"
   ]
  },
  {
   "cell_type": "code",
   "execution_count": 11,
   "metadata": {},
   "outputs": [
    {
     "name": "stdout",
     "output_type": "stream",
     "text": [
      "Well done!\n"
     ]
    },
    {
     "data": {
      "image/png": "[encoded data removed]",
      "text/plain": [
       "<Figure size 400x300 with 1 Axes>"
      ]
     },
     "metadata": {},
     "output_type": "display_data"
    }
   ],
   "source": [
    "import matplotlib.pyplot as plt\n",
    "from IPython import display\n",
    "import time\n",
    "\n",
    "plt.figure(figsize=(4, 3))\n",
    "display.clear_output(wait=True)\n",
    "\n",
    "TIME_LIMIT = 300\n",
    "\n",
    "obs = env.reset()\n",
    "pi = compute_policy_by_Q(env, Q)\n",
    "\n",
    "for t in range(TIME_LIMIT):\n",
    "    plt.gca().clear()\n",
    "    \n",
    "    action = pi[env.env.s]  # Call your policy\n",
    "    obs, reward, done, _ = env.step(action)  # Pass the action chosen by the policy to the environment\n",
    "\n",
    "    # We don't do anything with reward here because MountainCar is a very simple environment,\n",
    "    # and reward is a constant -1. Therefore, your goal is to end the episode as quickly as possible.\n",
    "\n",
    "    # Draw game image on display.\n",
    "    env.render()\n",
    "    time.sleep(1)\n",
    "\n",
    "    if t != TIME_LIMIT - 1:\n",
    "        display.clear_output(wait=True)\n",
    "\n",
    "    if done:\n",
    "        print(\"Well done!\")\n",
    "        break\n",
    "    else:\n",
    "        print(\"Time limit exceeded. Try again.\")\n"
   ]
  },
  {
   "cell_type": "code",
   "execution_count": null,
   "metadata": {},
   "outputs": [],
   "source": []
  }
 ],
 "metadata": {
  "kernelspec": {
   "display_name": "Python 3",
   "language": "python",
   "name": "python3"
  },
  "language_info": {
   "codemirror_mode": {
    "name": "ipython",
    "version": 3
   },
   "file_extension": ".py",
   "mimetype": "text/x-python",
   "name": "python",
   "nbconvert_exporter": "python",
   "pygments_lexer": "ipython3",
   "version": "3.8.5"
  },
  "orig_nbformat": 4,
  "vscode": {
   "interpreter": {
    "hash": "e6a2e712450244860375a403b2ba1d0bf06d4f4ef29e43f4a0c525242de3b84e"
   }
  }
 },
 "nbformat": 4,
 "nbformat_minor": 2
}
