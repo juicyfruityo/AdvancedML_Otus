{
 "cells": [
  {
   "cell_type": "code",
   "execution_count": 1,
   "metadata": {},
   "outputs": [],
   "source": [
    "import pandas as pd\n",
    "import numpy as np\n",
    "\n",
    "import pickle\n",
    "from pathlib import Path\n",
    "from tqdm import tqdm"
   ]
  },
  {
   "cell_type": "code",
   "execution_count": 3,
   "metadata": {},
   "outputs": [],
   "source": [
    "full_dataset = pd.concat([pd.read_csv(str(x.resolve())) for x in Path(\"data/\").glob(\"*k.csv\")])\n",
    "\n",
    "columns = ['Id', 'Name', 'RatingDist1', 'RatingDist2', 'RatingDist3',\n",
    "           'RatingDist4', 'RatingDist5', 'Rating', 'RatingDistTotal', 'pagesNumber', 'Publisher',\n",
    "           'Authors', 'Language', 'Description']\n",
    "full_dataset = full_dataset[columns]\n",
    "\n",
    "full_dataset = full_dataset[~full_dataset['Description'].isna()]\n",
    "full_dataset['RatingDistTotal'] = full_dataset['RatingDistTotal'].apply(lambda x: float(x.replace('total:', '')))"
   ]
  },
  {
   "cell_type": "code",
   "execution_count": 4,
   "metadata": {},
   "outputs": [
    {
     "name": "stdout",
     "output_type": "stream",
     "text": [
      "Mem. usage decreased to 113.93 Mb (15.0% reduction)\n"
     ]
    }
   ],
   "source": [
    "def reduce_mem_usage(df, verbose=True):\n",
    "    numerics = ['int16', 'int32', 'int64', 'float16', 'float32', 'float64']\n",
    "    start_mem = df.memory_usage().sum() / 1024**2\n",
    "    for col in df.columns:\n",
    "        col_type = df[col].dtypes\n",
    "        if col_type in numerics:\n",
    "            c_min = df[col].min()\n",
    "            c_max = df[col].max()\n",
    "            if str(col_type)[:3] == 'int':\n",
    "                if c_min > np.iinfo(np.int8).min and c_max < np.iinfo(np.int8).max:\n",
    "                    df[col] = df[col].astype(np.int8)\n",
    "                elif c_min > np.iinfo(np.int16).min and c_max < np.iinfo(np.int16).max:\n",
    "                    df[col] = df[col].astype(np.int16)\n",
    "                elif c_min > np.iinfo(np.int32).min and c_max < np.iinfo(np.int32).max:\n",
    "                    df[col] = df[col].astype(np.int32)\n",
    "                elif c_min > np.iinfo(np.int64).min and c_max < np.iinfo(np.int64).max:\n",
    "                    df[col] = df[col].astype(np.int64)\n",
    "            else:\n",
    "                if c_min > np.finfo(np.float16).min and c_max < np.finfo(np.float16).max:\n",
    "                    df[col] = df[col].astype(np.float16)\n",
    "                elif c_min > np.finfo(np.float32).min and c_max < np.finfo(np.float32).max:\n",
    "                    df[col] = df[col].astype(np.float32)\n",
    "                else:\n",
    "                    df[col] = df[col].astype(np.float64)\n",
    "    end_mem = df.memory_usage().sum() / 1024**2\n",
    "    if verbose: print('Mem. usage decreased to {:5.2f} Mb ({:.1f}% reduction)'.format(end_mem, 100 * (start_mem - end_mem) / start_mem))\n",
    "    return df\n",
    "\n",
    "full_dataset = reduce_mem_usage(full_dataset)"
   ]
  },
  {
   "cell_type": "code",
   "execution_count": 6,
   "metadata": {},
   "outputs": [],
   "source": [
    "import re\n",
    "\n",
    "def text_preprocessing_step(text):\n",
    "    text = text.lower()\n",
    "\n",
    "    # Удаляем html-теги\n",
    "    re_html = re.compile(r'<.*?>')\n",
    "    text = re_html.sub(' ', text)\n",
    "\n",
    "    return text.strip()\n",
    "\n",
    "# Т.к. книг много, ограничим их кол-во, для экономии времени\n",
    "full_dataset = full_dataset[full_dataset['Description'].apply(len) >= 50]\n",
    "full_dataset = full_dataset[full_dataset['RatingDistTotal'] >= 2000]\n",
    "\n",
    "descriptions = full_dataset['Description'].apply(text_preprocessing_step)"
   ]
  },
  {
   "cell_type": "code",
   "execution_count": 5,
   "metadata": {},
   "outputs": [],
   "source": [
    "# Можно загрузить уже посчитанный и сохранённый набор векторов.\n",
    "\n",
    "with open('result/embeddings_v1.pkl', 'rb') as file:\n",
    "    embeddings = pickle.load(file)"
   ]
  },
  {
   "cell_type": "code",
   "execution_count": 7,
   "metadata": {},
   "outputs": [],
   "source": [
    "filters = (full_dataset['Language'] == 'eng') | (full_dataset['Language'].isna())\n",
    "\n",
    "embeddings = embeddings[filters]\n",
    "descriptions = descriptions[filters]\n",
    "full_dataset = full_dataset[filters]"
   ]
  },
  {
   "cell_type": "code",
   "execution_count": 8,
   "metadata": {},
   "outputs": [],
   "source": [
    "with open('result/authors_dict_v1.pkl', 'rb') as file:\n",
    "    authors_dict = pickle.load(file)\n",
    "\n",
    "with open('result/books_dict_v1.pkl', 'rb') as file:\n",
    "    books_dict = pickle.load(file)"
   ]
  },
  {
   "cell_type": "code",
   "execution_count": 9,
   "metadata": {},
   "outputs": [],
   "source": [
    "user_rating = pd.concat([pd.read_csv(str(x.resolve())) for x in Path(\"data/\").glob(\"user_*.csv\")])"
   ]
  },
  {
   "cell_type": "code",
   "execution_count": 11,
   "metadata": {},
   "outputs": [
    {
     "data": {
      "text/html": [
       "<div>\n",
       "<style scoped>\n",
       "    .dataframe tbody tr th:only-of-type {\n",
       "        vertical-align: middle;\n",
       "    }\n",
       "\n",
       "    .dataframe tbody tr th {\n",
       "        vertical-align: top;\n",
       "    }\n",
       "\n",
       "    .dataframe thead th {\n",
       "        text-align: right;\n",
       "    }\n",
       "</style>\n",
       "<table border=\"1\" class=\"dataframe\">\n",
       "  <thead>\n",
       "    <tr style=\"text-align: right;\">\n",
       "      <th></th>\n",
       "      <th>Id</th>\n",
       "      <th>Name</th>\n",
       "      <th>RatingDist1</th>\n",
       "      <th>RatingDist2</th>\n",
       "      <th>RatingDist3</th>\n",
       "      <th>RatingDist4</th>\n",
       "      <th>RatingDist5</th>\n",
       "      <th>Rating</th>\n",
       "      <th>RatingDistTotal</th>\n",
       "      <th>pagesNumber</th>\n",
       "      <th>Publisher</th>\n",
       "      <th>Authors</th>\n",
       "      <th>Language</th>\n",
       "      <th>Description</th>\n",
       "    </tr>\n",
       "  </thead>\n",
       "  <tbody>\n",
       "    <tr>\n",
       "      <th>9</th>\n",
       "      <td>1000014</td>\n",
       "      <td>Haroun and the Sea of Stories</td>\n",
       "      <td>1:458</td>\n",
       "      <td>2:1512</td>\n",
       "      <td>3:5842</td>\n",
       "      <td>4:10325</td>\n",
       "      <td>5:10441</td>\n",
       "      <td>4.011719</td>\n",
       "      <td>28578.0</td>\n",
       "      <td>219.0</td>\n",
       "      <td>Turtleback Books</td>\n",
       "      <td>Salman Rushdie</td>\n",
       "      <td>eng</td>\n",
       "      <td>The author of The Satanic Verses returns with ...</td>\n",
       "    </tr>\n",
       "    <tr>\n",
       "      <th>10</th>\n",
       "      <td>1000020</td>\n",
       "      <td>There and Back Again: An Actor's Tale</td>\n",
       "      <td>1:129</td>\n",
       "      <td>2:289</td>\n",
       "      <td>3:660</td>\n",
       "      <td>4:601</td>\n",
       "      <td>5:1266</td>\n",
       "      <td>3.880859</td>\n",
       "      <td>2945.0</td>\n",
       "      <td>0.0</td>\n",
       "      <td>Macmillan Audio</td>\n",
       "      <td>Sean Astin</td>\n",
       "      <td>NaN</td>\n",
       "      <td>&lt;b&gt;The fascinating memoir of a Hollywood life ...</td>\n",
       "    </tr>\n",
       "    <tr>\n",
       "      <th>14</th>\n",
       "      <td>1000030</td>\n",
       "      <td>Anne of Green Gables</td>\n",
       "      <td>1:12153</td>\n",
       "      <td>2:24252</td>\n",
       "      <td>3:97335</td>\n",
       "      <td>4:201304</td>\n",
       "      <td>5:363709</td>\n",
       "      <td>4.261719</td>\n",
       "      <td>698753.0</td>\n",
       "      <td>0.0</td>\n",
       "      <td>Tantor Media</td>\n",
       "      <td>L.M. Montgomery</td>\n",
       "      <td>NaN</td>\n",
       "      <td>When Marilla and Matthew Cuthbert of Green Gab...</td>\n",
       "    </tr>\n",
       "    <tr>\n",
       "      <th>44</th>\n",
       "      <td>1000089</td>\n",
       "      <td>Trojan Odyssey (Dirk Pitt, #17)</td>\n",
       "      <td>1:119</td>\n",
       "      <td>2:611</td>\n",
       "      <td>3:4346</td>\n",
       "      <td>4:6893</td>\n",
       "      <td>5:4881</td>\n",
       "      <td>3.939453</td>\n",
       "      <td>16850.0</td>\n",
       "      <td>485.0</td>\n",
       "      <td>G. P. Putnam's Sons</td>\n",
       "      <td>Clive Cussler</td>\n",
       "      <td>eng</td>\n",
       "      <td>Long hailed as the grand master of adventure f...</td>\n",
       "    </tr>\n",
       "    <tr>\n",
       "      <th>75</th>\n",
       "      <td>1000153</td>\n",
       "      <td>Jackie &amp; Me (A Baseball Card Adventure, #2)</td>\n",
       "      <td>1:36</td>\n",
       "      <td>2:92</td>\n",
       "      <td>3:481</td>\n",
       "      <td>4:995</td>\n",
       "      <td>5:1437</td>\n",
       "      <td>4.218750</td>\n",
       "      <td>3041.0</td>\n",
       "      <td>160.0</td>\n",
       "      <td>HarperCollins</td>\n",
       "      <td>Dan Gutman</td>\n",
       "      <td>eng</td>\n",
       "      <td>Like every other kid in his class, Joe Stoscac...</td>\n",
       "    </tr>\n",
       "    <tr>\n",
       "      <th>...</th>\n",
       "      <td>...</td>\n",
       "      <td>...</td>\n",
       "      <td>...</td>\n",
       "      <td>...</td>\n",
       "      <td>...</td>\n",
       "      <td>...</td>\n",
       "      <td>...</td>\n",
       "      <td>...</td>\n",
       "      <td>...</td>\n",
       "      <td>...</td>\n",
       "      <td>...</td>\n",
       "      <td>...</td>\n",
       "      <td>...</td>\n",
       "      <td>...</td>\n",
       "    </tr>\n",
       "    <tr>\n",
       "      <th>40783</th>\n",
       "      <td>999701</td>\n",
       "      <td>The Hound of the Baskervilles: Easy Readers</td>\n",
       "      <td>1:1602</td>\n",
       "      <td>2:6788</td>\n",
       "      <td>3:45575</td>\n",
       "      <td>4:97279</td>\n",
       "      <td>5:92546</td>\n",
       "      <td>4.121094</td>\n",
       "      <td>243790.0</td>\n",
       "      <td>95.0</td>\n",
       "      <td>Klett Schulbuchverlag</td>\n",
       "      <td>Arthur Conan Doyle</td>\n",
       "      <td>eng</td>\n",
       "      <td>This popular series of readers has now been co...</td>\n",
       "    </tr>\n",
       "    <tr>\n",
       "      <th>40806</th>\n",
       "      <td>999794</td>\n",
       "      <td>I Wish I Had a Red Dress</td>\n",
       "      <td>1:30</td>\n",
       "      <td>2:122</td>\n",
       "      <td>3:619</td>\n",
       "      <td>4:1096</td>\n",
       "      <td>5:1259</td>\n",
       "      <td>4.101562</td>\n",
       "      <td>3126.0</td>\n",
       "      <td>336.0</td>\n",
       "      <td>William Morrow</td>\n",
       "      <td>Pearl Cleage</td>\n",
       "      <td>NaN</td>\n",
       "      <td>Joyce Mitchell was widowed far too young when ...</td>\n",
       "    </tr>\n",
       "    <tr>\n",
       "      <th>40819</th>\n",
       "      <td>999823</td>\n",
       "      <td>El Arte de Ensonar</td>\n",
       "      <td>1:79</td>\n",
       "      <td>2:215</td>\n",
       "      <td>3:766</td>\n",
       "      <td>4:1375</td>\n",
       "      <td>5:1842</td>\n",
       "      <td>4.101562</td>\n",
       "      <td>4277.0</td>\n",
       "      <td>304.0</td>\n",
       "      <td>Rayo</td>\n",
       "      <td>Carlos Castañeda</td>\n",
       "      <td>NaN</td>\n",
       "      <td>El Arte de Ensoñar, el noveno y mas reciente l...</td>\n",
       "    </tr>\n",
       "    <tr>\n",
       "      <th>40820</th>\n",
       "      <td>999824</td>\n",
       "      <td>The Power of Silence: Further Lessons of Don Juan</td>\n",
       "      <td>1:31</td>\n",
       "      <td>2:84</td>\n",
       "      <td>3:416</td>\n",
       "      <td>4:841</td>\n",
       "      <td>5:1260</td>\n",
       "      <td>4.218750</td>\n",
       "      <td>2632.0</td>\n",
       "      <td>286.0</td>\n",
       "      <td>Simon &amp; Schuster</td>\n",
       "      <td>Carlos Castañeda</td>\n",
       "      <td>NaN</td>\n",
       "      <td>The Power of Silence is Castaneda's most memor...</td>\n",
       "    </tr>\n",
       "    <tr>\n",
       "      <th>40868</th>\n",
       "      <td>999952</td>\n",
       "      <td>Émile, ou, de l'éducation</td>\n",
       "      <td>1:153</td>\n",
       "      <td>2:435</td>\n",
       "      <td>3:1056</td>\n",
       "      <td>4:1174</td>\n",
       "      <td>5:953</td>\n",
       "      <td>3.619141</td>\n",
       "      <td>3771.0</td>\n",
       "      <td>533.0</td>\n",
       "      <td>Phoenix (an Imprint of The Orion Publishing Gr...</td>\n",
       "      <td>Jean-Jacques Rousseau</td>\n",
       "      <td>eng</td>\n",
       "      <td>Émile, or On Education is a treatise on the na...</td>\n",
       "    </tr>\n",
       "  </tbody>\n",
       "</table>\n",
       "<p>53221 rows × 14 columns</p>\n",
       "</div>"
      ],
      "text/plain": [
       "            Id                                               Name RatingDist1  \\\n",
       "9      1000014                      Haroun and the Sea of Stories       1:458   \n",
       "10     1000020              There and Back Again: An Actor's Tale       1:129   \n",
       "14     1000030                               Anne of Green Gables     1:12153   \n",
       "44     1000089                    Trojan Odyssey (Dirk Pitt, #17)       1:119   \n",
       "75     1000153        Jackie & Me (A Baseball Card Adventure, #2)        1:36   \n",
       "...        ...                                                ...         ...   \n",
       "40783   999701        The Hound of the Baskervilles: Easy Readers      1:1602   \n",
       "40806   999794                           I Wish I Had a Red Dress        1:30   \n",
       "40819   999823                                 El Arte de Ensonar        1:79   \n",
       "40820   999824  The Power of Silence: Further Lessons of Don Juan        1:31   \n",
       "40868   999952                          Émile, ou, de l'éducation       1:153   \n",
       "\n",
       "      RatingDist2 RatingDist3 RatingDist4 RatingDist5    Rating  \\\n",
       "9          2:1512      3:5842     4:10325     5:10441  4.011719   \n",
       "10          2:289       3:660       4:601      5:1266  3.880859   \n",
       "14        2:24252     3:97335    4:201304    5:363709  4.261719   \n",
       "44          2:611      3:4346      4:6893      5:4881  3.939453   \n",
       "75           2:92       3:481       4:995      5:1437  4.218750   \n",
       "...           ...         ...         ...         ...       ...   \n",
       "40783      2:6788     3:45575     4:97279     5:92546  4.121094   \n",
       "40806       2:122       3:619      4:1096      5:1259  4.101562   \n",
       "40819       2:215       3:766      4:1375      5:1842  4.101562   \n",
       "40820        2:84       3:416       4:841      5:1260  4.218750   \n",
       "40868       2:435      3:1056      4:1174       5:953  3.619141   \n",
       "\n",
       "       RatingDistTotal  pagesNumber  \\\n",
       "9              28578.0        219.0   \n",
       "10              2945.0          0.0   \n",
       "14            698753.0          0.0   \n",
       "44             16850.0        485.0   \n",
       "75              3041.0        160.0   \n",
       "...                ...          ...   \n",
       "40783         243790.0         95.0   \n",
       "40806           3126.0        336.0   \n",
       "40819           4277.0        304.0   \n",
       "40820           2632.0        286.0   \n",
       "40868           3771.0        533.0   \n",
       "\n",
       "                                               Publisher  \\\n",
       "9                                       Turtleback Books   \n",
       "10                                       Macmillan Audio   \n",
       "14                                          Tantor Media   \n",
       "44                                   G. P. Putnam's Sons   \n",
       "75                                         HarperCollins   \n",
       "...                                                  ...   \n",
       "40783                              Klett Schulbuchverlag   \n",
       "40806                                     William Morrow   \n",
       "40819                                               Rayo   \n",
       "40820                                   Simon & Schuster   \n",
       "40868  Phoenix (an Imprint of The Orion Publishing Gr...   \n",
       "\n",
       "                     Authors Language  \\\n",
       "9             Salman Rushdie      eng   \n",
       "10                Sean Astin      NaN   \n",
       "14           L.M. Montgomery      NaN   \n",
       "44             Clive Cussler      eng   \n",
       "75                Dan Gutman      eng   \n",
       "...                      ...      ...   \n",
       "40783     Arthur Conan Doyle      eng   \n",
       "40806           Pearl Cleage      NaN   \n",
       "40819       Carlos Castañeda      NaN   \n",
       "40820       Carlos Castañeda      NaN   \n",
       "40868  Jean-Jacques Rousseau      eng   \n",
       "\n",
       "                                             Description  \n",
       "9      The author of The Satanic Verses returns with ...  \n",
       "10     <b>The fascinating memoir of a Hollywood life ...  \n",
       "14     When Marilla and Matthew Cuthbert of Green Gab...  \n",
       "44     Long hailed as the grand master of adventure f...  \n",
       "75     Like every other kid in his class, Joe Stoscac...  \n",
       "...                                                  ...  \n",
       "40783  This popular series of readers has now been co...  \n",
       "40806  Joyce Mitchell was widowed far too young when ...  \n",
       "40819  El Arte de Ensoñar, el noveno y mas reciente l...  \n",
       "40820  The Power of Silence is Castaneda's most memor...  \n",
       "40868  Émile, or On Education is a treatise on the na...  \n",
       "\n",
       "[53221 rows x 14 columns]"
      ]
     },
     "execution_count": 11,
     "metadata": {},
     "output_type": "execute_result"
    }
   ],
   "source": [
    "full_dataset"
   ]
  },
  {
   "cell_type": "code",
   "execution_count": 12,
   "metadata": {},
   "outputs": [],
   "source": [
    "\n",
    "user_rating = pd.merge(user_rating, full_dataset[['Id', 'Name']], on='Name', suffixes=('', '_book'))"
   ]
  },
  {
   "cell_type": "code",
   "execution_count": 14,
   "metadata": {},
   "outputs": [
    {
     "data": {
      "text/html": [
       "<div>\n",
       "<style scoped>\n",
       "    .dataframe tbody tr th:only-of-type {\n",
       "        vertical-align: middle;\n",
       "    }\n",
       "\n",
       "    .dataframe tbody tr th {\n",
       "        vertical-align: top;\n",
       "    }\n",
       "\n",
       "    .dataframe thead th {\n",
       "        text-align: right;\n",
       "    }\n",
       "</style>\n",
       "<table border=\"1\" class=\"dataframe\">\n",
       "  <thead>\n",
       "    <tr style=\"text-align: right;\">\n",
       "      <th></th>\n",
       "      <th>ID</th>\n",
       "      <th>Name</th>\n",
       "      <th>Rating</th>\n",
       "      <th>Id</th>\n",
       "    </tr>\n",
       "  </thead>\n",
       "  <tbody>\n",
       "    <tr>\n",
       "      <th>0</th>\n",
       "      <td>1</td>\n",
       "      <td>The Restaurant at the End of the Universe (Hit...</td>\n",
       "      <td>it was amazing</td>\n",
       "      <td>862825</td>\n",
       "    </tr>\n",
       "    <tr>\n",
       "      <th>1</th>\n",
       "      <td>73</td>\n",
       "      <td>The Restaurant at the End of the Universe (Hit...</td>\n",
       "      <td>really liked it</td>\n",
       "      <td>862825</td>\n",
       "    </tr>\n",
       "    <tr>\n",
       "      <th>2</th>\n",
       "      <td>116</td>\n",
       "      <td>The Restaurant at the End of the Universe (Hit...</td>\n",
       "      <td>it was amazing</td>\n",
       "      <td>862825</td>\n",
       "    </tr>\n",
       "    <tr>\n",
       "      <th>3</th>\n",
       "      <td>171</td>\n",
       "      <td>The Restaurant at the End of the Universe (Hit...</td>\n",
       "      <td>really liked it</td>\n",
       "      <td>862825</td>\n",
       "    </tr>\n",
       "    <tr>\n",
       "      <th>4</th>\n",
       "      <td>338</td>\n",
       "      <td>The Restaurant at the End of the Universe (Hit...</td>\n",
       "      <td>liked it</td>\n",
       "      <td>862825</td>\n",
       "    </tr>\n",
       "  </tbody>\n",
       "</table>\n",
       "</div>"
      ],
      "text/plain": [
       "    ID                                               Name           Rating  \\\n",
       "0    1  The Restaurant at the End of the Universe (Hit...   it was amazing   \n",
       "1   73  The Restaurant at the End of the Universe (Hit...  really liked it   \n",
       "2  116  The Restaurant at the End of the Universe (Hit...   it was amazing   \n",
       "3  171  The Restaurant at the End of the Universe (Hit...  really liked it   \n",
       "4  338  The Restaurant at the End of the Universe (Hit...         liked it   \n",
       "\n",
       "       Id  \n",
       "0  862825  \n",
       "1  862825  \n",
       "2  862825  \n",
       "3  862825  \n",
       "4  862825  "
      ]
     },
     "execution_count": 14,
     "metadata": {},
     "output_type": "execute_result"
    }
   ],
   "source": [
    "user_rating.head()"
   ]
  },
  {
   "cell_type": "code",
   "execution_count": 18,
   "metadata": {},
   "outputs": [
    {
     "data": {
      "text/plain": [
       "array(['it was amazing', 'really liked it', 'liked it', 'it was ok',\n",
       "       'did not like it'], dtype=object)"
      ]
     },
     "execution_count": 18,
     "metadata": {},
     "output_type": "execute_result"
    }
   ],
   "source": [
    "user_rating['Rating'].unique()"
   ]
  },
  {
   "cell_type": "code",
   "execution_count": 16,
   "metadata": {},
   "outputs": [
    {
     "data": {
      "text/plain": [
       "(3757, (450652, 4))"
      ]
     },
     "execution_count": 16,
     "metadata": {},
     "output_type": "execute_result"
    }
   ],
   "source": [
    "user_rating['ID'].nunique(), user_rating.shape"
   ]
  },
  {
   "cell_type": "code",
   "execution_count": 19,
   "metadata": {},
   "outputs": [],
   "source": [
    "user_rating_pos = user_rating[user_rating['Rating'].isin(['it was amazing', 'really liked it', 'liked it'])]"
   ]
  },
  {
   "cell_type": "code",
   "execution_count": 25,
   "metadata": {},
   "outputs": [
    {
     "name": "stderr",
     "output_type": "stream",
     "text": [
      "100%|██████████| 3703/3703 [01:52<00:00, 33.06it/s] \n"
     ]
    }
   ],
   "source": [
    "book_pairs = {}\n",
    "\n",
    "for user_id in tqdm(user_rating_pos['ID'].unique()):\n",
    "    user_books = user_rating_pos[user_rating_pos['ID'] == user_id]['Name'].values\n",
    "\n",
    "    for i, name1 in enumerate(user_books):\n",
    "        for j, name2 in enumerate(user_books, i+1):\n",
    "            # pair_names = ' | '.join(sorted((name1, name2)))\n",
    "            \n",
    "            if name1 > name2:\n",
    "                pair_names = (name1, name2)\n",
    "            else:\n",
    "                pair_names = (name2, name1)\n",
    "\n",
    "            if book_pairs.get(pair_names) is None:\n",
    "                book_pairs[pair_names] = 1\n",
    "            else:\n",
    "                book_pairs[pair_names] += 1"
   ]
  },
  {
   "cell_type": "code",
   "execution_count": 27,
   "metadata": {},
   "outputs": [],
   "source": [
    "for name in user_rating_pos['Name'].unique():\n",
    "    del book_pairs[(name, name)]"
   ]
  },
  {
   "cell_type": "code",
   "execution_count": null,
   "metadata": {},
   "outputs": [],
   "source": []
  },
  {
   "cell_type": "markdown",
   "metadata": {},
   "source": [
    "Будем считать, что если книги хотя бы раз встречались вместе, то это 1, иначе 0."
   ]
  },
  {
   "cell_type": "code",
   "execution_count": 30,
   "metadata": {},
   "outputs": [
    {
     "name": "stderr",
     "output_type": "stream",
     "text": [
      "100%|██████████| 36519/36519 [00:00<00:00, 76836.07it/s]\n"
     ]
    }
   ],
   "source": [
    "pairs_total = 0\n",
    "pairs_matched = 0\n",
    "\n",
    "for name, sim_books in tqdm(books_dict.items()):\n",
    "    \n",
    "    for matched_name in sim_books:\n",
    "        if name > matched_name:\n",
    "            pair_names = (name, matched_name)\n",
    "        else:\n",
    "            pair_names = (matched_name, name)\n",
    "\n",
    "        if book_pairs.get(pair_names) is not None:\n",
    "            pairs_matched += 1\n",
    "        pairs_total += 1"
   ]
  },
  {
   "cell_type": "code",
   "execution_count": 56,
   "metadata": {},
   "outputs": [
    {
     "name": "stdout",
     "output_type": "stream",
     "text": [
      "Попадание пары книг у пользователя в оценках 3.9 %\n"
     ]
    }
   ],
   "source": [
    "print(f'Попадание пары книг у пользователя в оценках {round(pairs_matched / pairs_total, 4) * 100.} %')"
   ]
  },
  {
   "attachments": {},
   "cell_type": "markdown",
   "metadata": {},
   "source": [
    "Среднее значение Precision@10"
   ]
  },
  {
   "cell_type": "code",
   "execution_count": 36,
   "metadata": {},
   "outputs": [],
   "source": [
    "single_book_dict = {}\n",
    "for name1, name2 in book_pairs.keys():\n",
    "\n",
    "    if single_book_dict.get(name1) is None:\n",
    "        single_book_dict[name1] = [name2]\n",
    "    else:\n",
    "        single_book_dict[name1].append(name2)\n",
    "\n",
    "    if single_book_dict.get(name2) is None:\n",
    "        single_book_dict[name2] = [name1]\n",
    "    else:\n",
    "        single_book_dict[name2].append(name1)"
   ]
  },
  {
   "cell_type": "code",
   "execution_count": 64,
   "metadata": {},
   "outputs": [
    {
     "data": {
      "text/plain": [
       "[\"The Restaurant at the End of the Universe (Hitchhiker's Guide to the Galaxy, #2)\",\n",
       " 'Siddhartha',\n",
       " 'The Hunger Games (The Hunger Games, #1)',\n",
       " 'The Authoritative Calvin and Hobbes: A Calvin and Hobbes Treasury',\n",
       " 'The Return of the Indian (The Indian in the Cupboard, #2)',\n",
       " 'The Name of the Rose',\n",
       " 'Dark Apprentice (Star Wars: The Jedi Academy Trilogy, #2)',\n",
       " 'A Short History of Nearly Everything',\n",
       " 'Angels & Demons (Robert Langdon, #1)',\n",
       " 'The Return of the King (The Lord of the Rings, #3)']"
      ]
     },
     "execution_count": 64,
     "metadata": {},
     "output_type": "execute_result"
    }
   ],
   "source": [
    "single_book_dict['Freakonomics: A Rogue Economist Explores the Hidden Side of Everything'][:10]"
   ]
  },
  {
   "cell_type": "code",
   "execution_count": 48,
   "metadata": {},
   "outputs": [
    {
     "name": "stderr",
     "output_type": "stream",
     "text": [
      "100%|██████████| 36519/36519 [00:00<00:00, 50440.03it/s]\n"
     ]
    }
   ],
   "source": [
    "# Посчитаем средний Precision@10\n",
    "precision_sum = 0\n",
    "precision_cnt = 0\n",
    "\n",
    "for name, sim_books in tqdm(books_dict.items()):\n",
    "    if single_book_dict.get(name) is None:\n",
    "        continue\n",
    "    \n",
    "    K = min(10, len(single_book_dict[name]))\n",
    "    intersetction = len(set(single_book_dict[name]).intersection(set(sim_books[:K])))\n",
    "\n",
    "    precision_sum += float(intersetction) / K\n",
    "    precision_cnt += 1"
   ]
  },
  {
   "cell_type": "code",
   "execution_count": 59,
   "metadata": {},
   "outputs": [
    {
     "name": "stdout",
     "output_type": "stream",
     "text": [
      "Среднее значение Precision@10 = 0.128\n"
     ]
    }
   ],
   "source": [
    "print(f'Среднее значение Precision@10 = {round(precision_sum / precision_cnt, 3)}')"
   ]
  },
  {
   "cell_type": "code",
   "execution_count": null,
   "metadata": {},
   "outputs": [],
   "source": []
  },
  {
   "cell_type": "code",
   "execution_count": null,
   "metadata": {},
   "outputs": [],
   "source": []
  }
 ],
 "metadata": {
  "kernelspec": {
   "display_name": "study",
   "language": "python",
   "name": "python3"
  },
  "language_info": {
   "codemirror_mode": {
    "name": "ipython",
    "version": 3
   },
   "file_extension": ".py",
   "mimetype": "text/x-python",
   "name": "python",
   "nbconvert_exporter": "python",
   "pygments_lexer": "ipython3",
   "version": "3.7.5"
  },
  "orig_nbformat": 4,
  "vscode": {
   "interpreter": {
    "hash": "f0d5d6461784772888fb12206aba4f7d242d28ab549b12d9512b024fa08541f5"
   }
  }
 },
 "nbformat": 4,
 "nbformat_minor": 2
}
