{
 "cells": [
  {
   "cell_type": "code",
   "execution_count": 1,
   "metadata": {},
   "outputs": [
    {
     "name": "stdout",
     "output_type": "stream",
     "text": [
      "Collecting sentence-transformers\n",
      "  Downloading sentence-transformers-2.2.2.tar.gz (85 kB)\n",
      "     -------------------------------------- 86.0/86.0 kB 345.7 kB/s eta 0:00:00\n",
      "  Preparing metadata (setup.py): started\n",
      "  Preparing metadata (setup.py): finished with status 'done'\n",
      "Requirement already satisfied: transformers<5.0.0,>=4.6.0 in c:\\users\\ivan.ustinov\\anaconda3\\envs\\study\\lib\\site-packages (from sentence-transformers) (4.24.0)\n",
      "Requirement already satisfied: tqdm in c:\\users\\ivan.ustinov\\anaconda3\\envs\\study\\lib\\site-packages (from sentence-transformers) (4.64.1)\n",
      "Requirement already satisfied: torch>=1.6.0 in c:\\users\\ivan.ustinov\\anaconda3\\envs\\study\\lib\\site-packages (from sentence-transformers) (1.8.1)\n",
      "Requirement already satisfied: torchvision in c:\\users\\ivan.ustinov\\anaconda3\\envs\\study\\lib\\site-packages (from sentence-transformers) (0.9.1)\n",
      "Requirement already satisfied: numpy in c:\\users\\ivan.ustinov\\anaconda3\\envs\\study\\lib\\site-packages (from sentence-transformers) (1.21.6)\n",
      "Requirement already satisfied: scikit-learn in c:\\users\\ivan.ustinov\\anaconda3\\envs\\study\\lib\\site-packages (from sentence-transformers) (1.0.2)\n",
      "Requirement already satisfied: scipy in c:\\users\\ivan.ustinov\\anaconda3\\envs\\study\\lib\\site-packages (from sentence-transformers) (1.7.3)\n",
      "Requirement already satisfied: nltk in c:\\users\\ivan.ustinov\\anaconda3\\envs\\study\\lib\\site-packages (from sentence-transformers) (3.7)\n",
      "Collecting sentencepiece\n",
      "  Using cached sentencepiece-0.1.97-cp37-cp37m-win_amd64.whl (1.1 MB)\n",
      "Requirement already satisfied: huggingface-hub>=0.4.0 in c:\\users\\ivan.ustinov\\anaconda3\\envs\\study\\lib\\site-packages (from sentence-transformers) (0.11.0)\n",
      "Requirement already satisfied: filelock in c:\\users\\ivan.ustinov\\anaconda3\\envs\\study\\lib\\site-packages (from huggingface-hub>=0.4.0->sentence-transformers) (3.6.0)\n",
      "Requirement already satisfied: packaging>=20.9 in c:\\users\\ivan.ustinov\\anaconda3\\envs\\study\\lib\\site-packages (from huggingface-hub>=0.4.0->sentence-transformers) (21.3)\n",
      "Requirement already satisfied: typing-extensions>=3.7.4.3 in c:\\users\\ivan.ustinov\\anaconda3\\envs\\study\\lib\\site-packages (from huggingface-hub>=0.4.0->sentence-transformers) (4.4.0)\n",
      "Requirement already satisfied: pyyaml>=5.1 in c:\\users\\ivan.ustinov\\anaconda3\\envs\\study\\lib\\site-packages (from huggingface-hub>=0.4.0->sentence-transformers) (6.0)\n",
      "Requirement already satisfied: requests in c:\\users\\ivan.ustinov\\anaconda3\\envs\\study\\lib\\site-packages (from huggingface-hub>=0.4.0->sentence-transformers) (2.28.1)\n",
      "Requirement already satisfied: importlib-metadata in c:\\users\\ivan.ustinov\\anaconda3\\envs\\study\\lib\\site-packages (from huggingface-hub>=0.4.0->sentence-transformers) (4.11.3)\n",
      "Requirement already satisfied: tokenizers!=0.11.3,<0.14,>=0.11.1 in c:\\users\\ivan.ustinov\\anaconda3\\envs\\study\\lib\\site-packages (from transformers<5.0.0,>=4.6.0->sentence-transformers) (0.13.2)\n",
      "Requirement already satisfied: regex!=2019.12.17 in c:\\users\\ivan.ustinov\\anaconda3\\envs\\study\\lib\\site-packages (from transformers<5.0.0,>=4.6.0->sentence-transformers) (2022.7.9)\n",
      "Requirement already satisfied: colorama in c:\\users\\ivan.ustinov\\anaconda3\\envs\\study\\lib\\site-packages (from tqdm->sentence-transformers) (0.4.5)\n",
      "Requirement already satisfied: joblib in c:\\users\\ivan.ustinov\\anaconda3\\envs\\study\\lib\\site-packages (from nltk->sentence-transformers) (1.1.1)\n",
      "Requirement already satisfied: click in c:\\users\\ivan.ustinov\\anaconda3\\envs\\study\\lib\\site-packages (from nltk->sentence-transformers) (8.0.4)\n",
      "Requirement already satisfied: threadpoolctl>=2.0.0 in c:\\users\\ivan.ustinov\\anaconda3\\envs\\study\\lib\\site-packages (from scikit-learn->sentence-transformers) (2.2.0)\n",
      "Requirement already satisfied: pillow>=4.1.1 in c:\\users\\ivan.ustinov\\anaconda3\\envs\\study\\lib\\site-packages (from torchvision->sentence-transformers) (9.2.0)\n",
      "Requirement already satisfied: pyparsing!=3.0.5,>=2.0.2 in c:\\users\\ivan.ustinov\\anaconda3\\envs\\study\\lib\\site-packages (from packaging>=20.9->huggingface-hub>=0.4.0->sentence-transformers) (3.0.9)\n",
      "Requirement already satisfied: zipp>=0.5 in c:\\users\\ivan.ustinov\\anaconda3\\envs\\study\\lib\\site-packages (from importlib-metadata->huggingface-hub>=0.4.0->sentence-transformers) (3.11.0)\n",
      "Requirement already satisfied: certifi>=2017.4.17 in c:\\users\\ivan.ustinov\\anaconda3\\envs\\study\\lib\\site-packages (from requests->huggingface-hub>=0.4.0->sentence-transformers) (2022.12.7)\n",
      "Requirement already satisfied: urllib3<1.27,>=1.21.1 in c:\\users\\ivan.ustinov\\anaconda3\\envs\\study\\lib\\site-packages (from requests->huggingface-hub>=0.4.0->sentence-transformers) (1.26.12)\n",
      "Requirement already satisfied: idna<4,>=2.5 in c:\\users\\ivan.ustinov\\anaconda3\\envs\\study\\lib\\site-packages (from requests->huggingface-hub>=0.4.0->sentence-transformers) (3.4)\n",
      "Requirement already satisfied: charset-normalizer<3,>=2 in c:\\users\\ivan.ustinov\\anaconda3\\envs\\study\\lib\\site-packages (from requests->huggingface-hub>=0.4.0->sentence-transformers) (2.0.4)\n",
      "Building wheels for collected packages: sentence-transformers\n",
      "  Building wheel for sentence-transformers (setup.py): started\n",
      "  Building wheel for sentence-transformers (setup.py): finished with status 'done'\n",
      "  Created wheel for sentence-transformers: filename=sentence_transformers-2.2.2-py3-none-any.whl size=125925 sha256=b26d8f8bd2ac23b31f117aa2a939d61d78487e11bc4bacf22562676f2d9fe6da\n",
      "  Stored in directory: c:\\users\\ivan.ustinov\\appdata\\local\\pip\\cache\\wheels\\bf\\06\\fb\\d59c1e5bd1dac7f6cf61ec0036cc3a10ab8fecaa6b2c3d3ee9\n",
      "Successfully built sentence-transformers\n",
      "Installing collected packages: sentencepiece, sentence-transformers\n",
      "Successfully installed sentence-transformers-2.2.2 sentencepiece-0.1.97\n"
     ]
    }
   ],
   "source": [
    "!pip install -U sentence-transformers"
   ]
  },
  {
   "cell_type": "code",
   "execution_count": 1,
   "metadata": {},
   "outputs": [],
   "source": [
    "import pandas as pd\n",
    "import numpy as np"
   ]
  },
  {
   "cell_type": "code",
   "execution_count": 2,
   "metadata": {},
   "outputs": [],
   "source": [
    "from pathlib import Path\n",
    "full_dataset = pd.concat([pd.read_csv(str(x.resolve())) for x in Path(\"data/\").glob(\"*k.csv\")])"
   ]
  },
  {
   "cell_type": "code",
   "execution_count": 3,
   "metadata": {},
   "outputs": [],
   "source": [
    "columns = ['Id', 'Name', 'RatingDist1', 'RatingDist2', 'RatingDist3',\n",
    "           'RatingDist4', 'RatingDist5', 'Rating', 'RatingDistTotal', 'pagesNumber', 'Publisher',\n",
    "           'Authors', 'Language', 'Description']\n",
    "full_dataset = full_dataset[columns]\n",
    "\n",
    "full_dataset = full_dataset[~full_dataset['Description'].isna()]\n",
    "full_dataset['RatingDistTotal'] = full_dataset['RatingDistTotal'].apply(lambda x: float(x.replace('total:', '')))"
   ]
  },
  {
   "cell_type": "code",
   "execution_count": 4,
   "metadata": {},
   "outputs": [
    {
     "name": "stdout",
     "output_type": "stream",
     "text": [
      "Mem. usage decreased to 113.93 Mb (15.0% reduction)\n"
     ]
    }
   ],
   "source": [
    "def reduce_mem_usage(df, verbose=True):\n",
    "    numerics = ['int16', 'int32', 'int64', 'float16', 'float32', 'float64']\n",
    "    start_mem = df.memory_usage().sum() / 1024**2\n",
    "    for col in df.columns:\n",
    "        col_type = df[col].dtypes\n",
    "        if col_type in numerics:\n",
    "            c_min = df[col].min()\n",
    "            c_max = df[col].max()\n",
    "            if str(col_type)[:3] == 'int':\n",
    "                if c_min > np.iinfo(np.int8).min and c_max < np.iinfo(np.int8).max:\n",
    "                    df[col] = df[col].astype(np.int8)\n",
    "                elif c_min > np.iinfo(np.int16).min and c_max < np.iinfo(np.int16).max:\n",
    "                    df[col] = df[col].astype(np.int16)\n",
    "                elif c_min > np.iinfo(np.int32).min and c_max < np.iinfo(np.int32).max:\n",
    "                    df[col] = df[col].astype(np.int32)\n",
    "                elif c_min > np.iinfo(np.int64).min and c_max < np.iinfo(np.int64).max:\n",
    "                    df[col] = df[col].astype(np.int64)\n",
    "            else:\n",
    "                if c_min > np.finfo(np.float16).min and c_max < np.finfo(np.float16).max:\n",
    "                    df[col] = df[col].astype(np.float16)\n",
    "                elif c_min > np.finfo(np.float32).min and c_max < np.finfo(np.float32).max:\n",
    "                    df[col] = df[col].astype(np.float32)\n",
    "                else:\n",
    "                    df[col] = df[col].astype(np.float64)\n",
    "    end_mem = df.memory_usage().sum() / 1024**2\n",
    "    if verbose: print('Mem. usage decreased to {:5.2f} Mb ({:.1f}% reduction)'.format(end_mem, 100 * (start_mem - end_mem) / start_mem))\n",
    "    return df\n",
    "\n",
    "full_dataset = reduce_mem_usage(full_dataset)"
   ]
  },
  {
   "cell_type": "code",
   "execution_count": 5,
   "metadata": {},
   "outputs": [],
   "source": [
    "from sentence_transformers import SentenceTransformer\n",
    "\n",
    "model = SentenceTransformer('sentence-transformers/all-MiniLM-L6-v2')"
   ]
  },
  {
   "cell_type": "code",
   "execution_count": 17,
   "metadata": {},
   "outputs": [
    {
     "data": {
      "text/plain": [
       "(5520, 14)"
      ]
     },
     "execution_count": 17,
     "metadata": {},
     "output_type": "execute_result"
    }
   ],
   "source": []
  },
  {
   "cell_type": "code",
   "execution_count": 6,
   "metadata": {},
   "outputs": [],
   "source": [
    "import re\n",
    "\n",
    "def text_preprocessing_step(text):\n",
    "    text = text.lower()\n",
    "\n",
    "    # Удаляем html-теги\n",
    "    re_html = re.compile(r'<.*?>')\n",
    "    text = re_html.sub(' ', text)\n",
    "\n",
    "    return text.strip()\n",
    "\n",
    "full_dataset = full_dataset[full_dataset['Description'].apply(len) >= 50]\n",
    "full_dataset = full_dataset[full_dataset['RatingDistTotal'] >= 1000]\n",
    "\n",
    "descriptions = full_dataset['Description'].apply(text_preprocessing_step)"
   ]
  },
  {
   "cell_type": "code",
   "execution_count": 14,
   "metadata": {},
   "outputs": [
    {
     "data": {
      "text/plain": [
       "(66520, 14)"
      ]
     },
     "execution_count": 14,
     "metadata": {},
     "output_type": "execute_result"
    }
   ],
   "source": [
    "# full_dataset = \n",
    "full_dataset[full_dataset['RatingDistTotal'] >= 2000].shape\n",
    "# full_dataset.shape"
   ]
  },
  {
   "cell_type": "code",
   "execution_count": 8,
   "metadata": {},
   "outputs": [],
   "source": [
    "embeddings = model.encode(descriptions.values[:50])"
   ]
  },
  {
   "cell_type": "code",
   "execution_count": 12,
   "metadata": {},
   "outputs": [
    {
     "data": {
      "text/plain": [
       "77.77777777777777"
      ]
     },
     "execution_count": 12,
     "metadata": {},
     "output_type": "execute_result"
    }
   ],
   "source": [
    "(1000000 / 50. * 14) / (60 * 60)"
   ]
  },
  {
   "cell_type": "code",
   "execution_count": null,
   "metadata": {},
   "outputs": [],
   "source": []
  },
  {
   "cell_type": "code",
   "execution_count": null,
   "metadata": {},
   "outputs": [],
   "source": []
  },
  {
   "cell_type": "code",
   "execution_count": null,
   "metadata": {},
   "outputs": [],
   "source": []
  }
 ],
 "metadata": {
  "kernelspec": {
   "display_name": "study",
   "language": "python",
   "name": "python3"
  },
  "language_info": {
   "codemirror_mode": {
    "name": "ipython",
    "version": 3
   },
   "file_extension": ".py",
   "mimetype": "text/x-python",
   "name": "python",
   "nbconvert_exporter": "python",
   "pygments_lexer": "ipython3",
   "version": "3.7.5 (default, Oct 31 2019, 15:18:51) [MSC v.1916 64 bit (AMD64)]"
  },
  "orig_nbformat": 4,
  "vscode": {
   "interpreter": {
    "hash": "f0d5d6461784772888fb12206aba4f7d242d28ab549b12d9512b024fa08541f5"
   }
  }
 },
 "nbformat": 4,
 "nbformat_minor": 2
}
